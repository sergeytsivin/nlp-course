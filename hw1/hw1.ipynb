{
 "cells": [
  {
   "cell_type": "markdown",
   "metadata": {},
   "source": [
    "# Автоматическая обработка текстов \n",
    "## Домашнее задание 1 [20 баллов] до 23:59 28.04.2018\n",
    "\n",
    "В этом домашнем задании вам потребуется написать генератор описания прогноза погоды на следующую неделю в каком-нибудь городе. Домашнее задание состоит из двух частей:\n",
    "1. Генерация текста по шаблону\n",
    "2. Извлечение телефонных номеров из текста."
   ]
  },
  {
   "cell_type": "markdown",
   "metadata": {},
   "source": [
    "## Часть 1 [10 баллов]\n",
    "Задание состоит из следующих пунктов:\n",
    "1. Скачивание данных о состоянии погоды в городе \n",
    "2. Генерация описания прогноза\n",
    "3. Творческая часть\n",
    "\n",
    "Все три пункта можно считать независимыми – вы можете сделать один или два из них, однако мы настоятельно советуем выполнить все три. Все инструкции по выполнению домашнего задания – ниже. "
   ]
  },
  {
   "cell_type": "markdown",
   "metadata": {},
   "source": [
    "### 1. Сбор данных [3 балла]\n",
    "\n",
    "\n",
    "Пример: прогноз на 10 ближайших дней в Москве – https://www.gismeteo.ru/weather-moscow-4368/10-days/\n",
    "\n",
    "Используя известные вам библиотеки для работы с протоколом http и html кодом, извлеките прогноз на ближайшие 10 дней, начиная со дня, когда вы начали делать домашнее задание, с любого сервиса с прогнозом погоды или используя его API.\n",
    "Примеры сервисов:\n",
    "* gismeteo.ru, https://www.gismeteo.ru/api/ – Gismeteo, API Gismeteo \n",
    "* https://tech.yandex.ru/weather/ – API Yandex.Погоды\n",
    "* https://sinoptik.com.ru – Sinoptik\n",
    "* любой другой \n",
    "\n",
    "Резльтатом сбора данных должна быть таблица со следующими строками:\n",
    "* минимальная температура\n",
    "* максимальная температура\n",
    "* скорость ветра\n",
    "* уровень осадков \n",
    "\n",
    "В столбцах таблицы должны быть даты и дни недели.  Пример итоговой таблицы вы найдете в следующей части задания. "
   ]
  },
  {
   "cell_type": "code",
   "execution_count": 3,
   "metadata": {},
   "outputs": [
    {
     "name": "stdout",
     "output_type": "stream",
     "text": [
      "200\n"
     ]
    }
   ],
   "source": [
    "import requests\n",
    "\n",
    "r = requests.get(\"http://api.wunderground.com/api/f58c032a9510345a/forecast10day/q/Russia/Moscow.json\")\n",
    "print(r.status_code)\n",
    "response_data = r.json()"
   ]
  },
  {
   "cell_type": "code",
   "execution_count": 11,
   "metadata": {},
   "outputs": [],
   "source": [
    "data = response_data['forecast']['simpleforecast']['forecastday']"
   ]
  },
  {
   "cell_type": "code",
   "execution_count": 46,
   "metadata": {},
   "outputs": [
    {
     "data": {
      "text/plain": [
       "[2018-04-27 19:00:00 temp: 4.0..15.0 wind: 2.0m/s precip: 0.0mm,\n",
       " 2018-04-28 19:00:00 temp: 5.0..15.0 wind: 9.0m/s precip: 0.0mm,\n",
       " 2018-04-29 19:00:00 temp: 8.0..16.0 wind: 7.0m/s precip: 0.0mm,\n",
       " 2018-04-30 19:00:00 temp: 11.0..21.0 wind: 7.0m/s precip: 4.0mm,\n",
       " 2018-05-01 19:00:00 temp: 11.0..24.0 wind: 9.0m/s precip: 5.0mm,\n",
       " 2018-05-02 19:00:00 temp: 10.0..19.0 wind: 7.0m/s precip: 0.0mm,\n",
       " 2018-05-03 19:00:00 temp: 8.0..18.0 wind: 7.0m/s precip: 0.0mm,\n",
       " 2018-05-04 19:00:00 temp: 9.0..19.0 wind: 7.0m/s precip: 8.0mm,\n",
       " 2018-05-05 19:00:00 temp: 8.0..18.0 wind: 5.0m/s precip: 1.0mm,\n",
       " 2018-05-06 19:00:00 temp: 8.0..17.0 wind: 7.0m/s precip: 0.0mm]"
      ]
     },
     "execution_count": 46,
     "metadata": {},
     "output_type": "execute_result"
    }
   ],
   "source": [
    "from datetime import datetime\n",
    "import math\n",
    "import locale\n",
    "\n",
    "locale.setlocale(locale.LC_ALL, 'ru_RU.UTF-8')\n",
    "\n",
    "class Weather(object):\n",
    "    def __init__(self, epoch, low, high, wind, precip):\n",
    "        self.dt = datetime.fromtimestamp(int(epoch))\n",
    "        self.low = float(low)\n",
    "        self.high = float(high)\n",
    "        self.wind = float(wind)\n",
    "        self.precip = float(precip)\n",
    "        \n",
    "    def __repr__(self):\n",
    "        return f\"{self.dt} temp: {self.low}..{self.high} wind: {self.wind}m/s precip: {self.precip}mm\"\n",
    "\n",
    "forecast = list()\n",
    "for day in data:\n",
    "    w = Weather(\n",
    "        epoch=day['date']['epoch'],\n",
    "        low=day['low']['celsius'],\n",
    "        high=day['high']['celsius'],\n",
    "        wind=math.ceil(day['maxwind']['kph']*1000.0/3600),\n",
    "        precip=day['qpf_allday']['mm']\n",
    "    )\n",
    "    forecast.append(w)\n",
    "    \n",
    "forecast\n"
   ]
  },
  {
   "cell_type": "code",
   "execution_count": 47,
   "metadata": {},
   "outputs": [],
   "source": [
    "import pandas as pd"
   ]
  },
  {
   "cell_type": "code",
   "execution_count": 48,
   "metadata": {},
   "outputs": [],
   "source": [
    "index = [w.dt.strftime(\"%d.%m (%a)\") for w in forecast]\n",
    "d = {\n",
    "    'минимальная температура': [w.low for w in forecast],\n",
    "    'максимальная температура': [w.high for w in forecast],\n",
    "    'скорость ветра': [w.wind for w in forecast],\n",
    "    'уровень осадков': [w.precip for w in forecast]\n",
    "}\n",
    "\n",
    "f = pd.DataFrame(d, index=index)"
   ]
  },
  {
   "cell_type": "code",
   "execution_count": 49,
   "metadata": {},
   "outputs": [
    {
     "data": {
      "text/html": [
       "<div>\n",
       "<style scoped>\n",
       "    .dataframe tbody tr th:only-of-type {\n",
       "        vertical-align: middle;\n",
       "    }\n",
       "\n",
       "    .dataframe tbody tr th {\n",
       "        vertical-align: top;\n",
       "    }\n",
       "\n",
       "    .dataframe thead th {\n",
       "        text-align: right;\n",
       "    }\n",
       "</style>\n",
       "<table border=\"1\" class=\"dataframe\">\n",
       "  <thead>\n",
       "    <tr style=\"text-align: right;\">\n",
       "      <th></th>\n",
       "      <th>27.04 (пт)</th>\n",
       "      <th>28.04 (сб)</th>\n",
       "      <th>29.04 (вс)</th>\n",
       "      <th>30.04 (пн)</th>\n",
       "      <th>01.05 (вт)</th>\n",
       "      <th>02.05 (ср)</th>\n",
       "      <th>03.05 (чт)</th>\n",
       "      <th>04.05 (пт)</th>\n",
       "      <th>05.05 (сб)</th>\n",
       "      <th>06.05 (вс)</th>\n",
       "    </tr>\n",
       "  </thead>\n",
       "  <tbody>\n",
       "    <tr>\n",
       "      <th>максимальная температура</th>\n",
       "      <td>15.0</td>\n",
       "      <td>15.0</td>\n",
       "      <td>16.0</td>\n",
       "      <td>21.0</td>\n",
       "      <td>24.0</td>\n",
       "      <td>19.0</td>\n",
       "      <td>18.0</td>\n",
       "      <td>19.0</td>\n",
       "      <td>18.0</td>\n",
       "      <td>17.0</td>\n",
       "    </tr>\n",
       "    <tr>\n",
       "      <th>минимальная температура</th>\n",
       "      <td>4.0</td>\n",
       "      <td>5.0</td>\n",
       "      <td>8.0</td>\n",
       "      <td>11.0</td>\n",
       "      <td>11.0</td>\n",
       "      <td>10.0</td>\n",
       "      <td>8.0</td>\n",
       "      <td>9.0</td>\n",
       "      <td>8.0</td>\n",
       "      <td>8.0</td>\n",
       "    </tr>\n",
       "    <tr>\n",
       "      <th>скорость ветра</th>\n",
       "      <td>2.0</td>\n",
       "      <td>9.0</td>\n",
       "      <td>7.0</td>\n",
       "      <td>7.0</td>\n",
       "      <td>9.0</td>\n",
       "      <td>7.0</td>\n",
       "      <td>7.0</td>\n",
       "      <td>7.0</td>\n",
       "      <td>5.0</td>\n",
       "      <td>7.0</td>\n",
       "    </tr>\n",
       "    <tr>\n",
       "      <th>уровень осадков</th>\n",
       "      <td>0.0</td>\n",
       "      <td>0.0</td>\n",
       "      <td>0.0</td>\n",
       "      <td>4.0</td>\n",
       "      <td>5.0</td>\n",
       "      <td>0.0</td>\n",
       "      <td>0.0</td>\n",
       "      <td>8.0</td>\n",
       "      <td>1.0</td>\n",
       "      <td>0.0</td>\n",
       "    </tr>\n",
       "  </tbody>\n",
       "</table>\n",
       "</div>"
      ],
      "text/plain": [
       "                          27.04 (пт)  28.04 (сб)  29.04 (вс)  30.04 (пн)  \\\n",
       "максимальная температура        15.0        15.0        16.0        21.0   \n",
       "минимальная температура          4.0         5.0         8.0        11.0   \n",
       "скорость ветра                   2.0         9.0         7.0         7.0   \n",
       "уровень осадков                  0.0         0.0         0.0         4.0   \n",
       "\n",
       "                          01.05 (вт)  02.05 (ср)  03.05 (чт)  04.05 (пт)  \\\n",
       "максимальная температура        24.0        19.0        18.0        19.0   \n",
       "минимальная температура         11.0        10.0         8.0         9.0   \n",
       "скорость ветра                   9.0         7.0         7.0         7.0   \n",
       "уровень осадков                  5.0         0.0         0.0         8.0   \n",
       "\n",
       "                          05.05 (сб)  06.05 (вс)  \n",
       "максимальная температура        18.0        17.0  \n",
       "минимальная температура          8.0         8.0  \n",
       "скорость ветра                   5.0         7.0  \n",
       "уровень осадков                  1.0         0.0  "
      ]
     },
     "execution_count": 49,
     "metadata": {},
     "output_type": "execute_result"
    }
   ],
   "source": [
    "f.T"
   ]
  },
  {
   "cell_type": "markdown",
   "metadata": {},
   "source": [
    "### 2. Генератор описания прогноза погоды [4 балла]\n",
    "\n",
    "Если у вас не получилось извлечь прогноз погоды в предыдущей части задания, воспользуйтесь таблицей ниже.\n",
    "В ней приведен прогноз четырех показателей на первые 10 дней февраля в Москве – минимальная и максимальная температура, скорость ветра и уровень осадков. "
   ]
  },
  {
   "cell_type": "markdown",
   "metadata": {},
   "source": [
    "|                | 02.02 (пт) | 03.02 (сб) | 04.02 (вс)| 05.02 (пн) | 06.02 (вт) | 07.02 (пн) | 08.02 (ср) | 09.02 (ср) | 10.02 (сб) | 11.02 (вс)\n",
    "|----------------|-------|-------|-------|-------|-------|-------|-------|\n",
    "| минимальная температура    | -9    | -1    | -8    | -13    | -12    | -15    | -21    | -14 |-8 |-8\n",
    "| максимальная температура    | -1    | +1    | -2    | -9   | -11    | -12    | -16    |-5    |-6    |-5|\n",
    "| скорость ветра | 10    | 13    | 15    | 15   |11    | 6    | 7 | 9 | 8 |12\n",
    "| уровень осадков         | 1.35  | 8.6  | 15.5  | 6.6   | 2.7   | 2.1   | 0   | 3.2   |0.8  | 0.4"
   ]
  },
  {
   "cell_type": "markdown",
   "metadata": {},
   "source": [
    "Прогноз погоды должен состоять из следующих (или подобным им) предложений, генерируемых по шаблонам (ниже три шаблона):\n",
    "* В день1 похолодает / потеплеет на X градус (-а, -ов) по сравнению с день2\n",
    "    * *В четверг в НазваниеГорода потеплеет на 7 градусов по сравнению со средой*\n",
    "* Скорость ветра изменится на X единиц в день1 по сравнению с день2.\n",
    "    * *Скорость ветра изменится на 3 км/час в понедельник по сравнению с пятницей*\n",
    "* Уровень осадков повысится / понизится на X единиц за Y дней. \n",
    "    * *Уровень осадков понится на 3.85 мм за 7 дней*\n",
    "    * *Выпадет 10 см снега за ближайшие 7 дней * \n",
    "\n",
    "\n",
    "Вместо НазваниеГорода и дней недели подставьте название выбранного вами города и дни недели, используя фунцкии для согласования существительных с предлогами. Используйте функции для согласования числительного с существительным для согласования длительности промежутков времени и слова \"день\" и чисел  с последующими единицами измерения."
   ]
  },
  {
   "cell_type": "code",
   "execution_count": 37,
   "metadata": {},
   "outputs": [],
   "source": [
    "import pymorphy2\n",
    "morph = pymorphy2.analyzer.MorphAnalyzer()\n",
    "city = 'Москва'"
   ]
  },
  {
   "cell_type": "code",
   "execution_count": 65,
   "metadata": {},
   "outputs": [
    {
     "name": "stdout",
     "output_type": "stream",
     "text": [
      "В субботу в Москве погода не изменится по сравнению с пятницей.\n",
      "В воскресенье в Москве потеплеет на 1 градус по сравнению с субботой.\n",
      "В понедельник в Москве потеплеет на 5 градусов по сравнению с воскресеньем.\n",
      "Во вторник в Москве потеплеет на 3 градуса по сравнению с понедельником.\n",
      "В среду в Москве похолодает на 5 градусов по сравнению с вторником.\n",
      "В четверг в Москве похолодает на 1 градус по сравнению со средой.\n",
      "В пятницу в Москве потеплеет на 1 градус по сравнению с четвергом.\n",
      "В субботу в Москве похолодает на 1 градус по сравнению с пятницей.\n",
      "В воскресенье в Москве похолодает на 1 градус по сравнению с субботой.\n"
     ]
    }
   ],
   "source": [
    "def forecast_one(city, day1, day2, forecast):\n",
    "    # В _четверг_ в _Городе_ потеплеет на _7_ градусов по сравнению со _средой_\n",
    "    \n",
    "    day1w = forecast[day1].dt.strftime(\"%A\")\n",
    "    prep1 = 'В' if day1w != 'вторник' else 'Во'\n",
    "    day1w = morph.parse(day1w)[0].inflect({'accs'}).word\n",
    "    \n",
    "    day2w = forecast[day2].dt.strftime(\"%A\")\n",
    "    prep2 = 'с' if day2w != 'среда' else 'со'\n",
    "    day2w = morph.parse(day2w)[0].inflect({'ablt'}).word\n",
    "    \n",
    "    city = morph.parse(city)[0].inflect({'loct'}).word\n",
    "\n",
    "    if forecast[day1].high == forecast[day2].high:\n",
    "        return f'{prep1} {day1w} в {city[0].upper()+city[1:]} погода не изменится по сравнению {prep2} {day2w}.'\n",
    "    \n",
    "    change = 'потеплеет' if forecast[day1].high > forecast[day2].high else 'похолодает'\n",
    "    amount = math.ceil(abs(forecast[day1].high - forecast[day2].high))\n",
    "    degree = morph.parse('градус')[0].make_agree_with_number(int(amount)).word\n",
    "    \n",
    "    return f'{prep1} {day1w} в {city[0].upper()+city[1:]} {change} на {amount} {degree} по сравнению {prep2} {day2w}.'\n",
    "\n",
    "for i in range(9):\n",
    "    print(forecast_one('Москва', i+1, i, forecast))"
   ]
  },
  {
   "cell_type": "code",
   "execution_count": 68,
   "metadata": {},
   "outputs": [
    {
     "name": "stdout",
     "output_type": "stream",
     "text": [
      "Скорость ветра увеличится на 7 м/с в субботу по сравнению с пятницей.\n",
      "Скорость ветра уменьшится на 2 м/с в воскресенье по сравнению с субботой.\n",
      "Скорость ветра не изменится в понедельник по сравнению с воскресеньем.\n",
      "Скорость ветра увеличится на 2 м/с Во вторник по сравнению с понедельником.\n",
      "Скорость ветра уменьшится на 2 м/с в среду по сравнению с вторником.\n",
      "Скорость ветра не изменится в четверг по сравнению со средой.\n",
      "Скорость ветра не изменится в пятницу по сравнению с четвергом.\n",
      "Скорость ветра уменьшится на 2 м/с в субботу по сравнению с пятницей.\n",
      "Скорость ветра увеличится на 2 м/с в воскресенье по сравнению с субботой.\n"
     ]
    }
   ],
   "source": [
    "def forecast_two(city, day1, day2, forecast):\n",
    "    # Скорость ветра изменится на 3 км/час в понедельник по сравнению с пятницей\n",
    "    \n",
    "    day1w = forecast[day1].dt.strftime(\"%A\")\n",
    "    prep1 = 'в' if day1w != 'вторник' else 'Во'\n",
    "    day1w = morph.parse(day1w)[0].inflect({'accs'}).word\n",
    "    \n",
    "    day2w = forecast[day2].dt.strftime(\"%A\")\n",
    "    prep2 = 'с' if day2w != 'среда' else 'со'\n",
    "    day2w = morph.parse(day2w)[0].inflect({'ablt'}).word\n",
    "\n",
    "    if forecast[day1].wind == forecast[day2].wind:\n",
    "        return f'Скорость ветра не изменится {prep1} {day1w} по сравнению {prep2} {day2w}.'\n",
    "    \n",
    "    change = 'увеличится' if forecast[day1].wind > forecast[day2].wind else 'уменьшится'\n",
    "    amount = math.ceil(abs(forecast[day1].wind - forecast[day2].wind))\n",
    "    \n",
    "    return f'Скорость ветра {change} на {amount} м/с {prep1} {day1w} по сравнению {prep2} {day2w}.'\n",
    "\n",
    "for i in range(9):\n",
    "    print(forecast_two('Москва', i+1, i, forecast))"
   ]
  },
  {
   "cell_type": "code",
   "execution_count": 76,
   "metadata": {},
   "outputs": [
    {
     "name": "stdout",
     "output_type": "stream",
     "text": [
      "Уровень осадков не изменится за 1 день.\n",
      "Уровень осадков не изменится за 2 дня.\n",
      "Уровень осадков повысится на 5.0 мм за 3 дня.\n",
      "Уровень осадков повысится на 7.0 мм за 4 дня.\n",
      "Уровень осадков не изменится за 5 дней.\n",
      "Уровень осадков не изменится за 6 дней.\n",
      "Уровень осадков повысится на 5.0 мм за 7 дней.\n",
      "Уровень осадков повысится на 3.0 мм за 8 дней.\n"
     ]
    }
   ],
   "source": [
    "def forecast_three(city, day1, day2, forecast):\n",
    "    # Уровень осадков понизится на 3.85 мм за 7 дней\n",
    "    \n",
    "    interval = day1 - day2\n",
    "    days = morph.parse('дни')[0].make_agree_with_number(interval).word\n",
    "    \n",
    "    if forecast[day1].precip == forecast[day2].precip:\n",
    "        return f'Уровень осадков не изменится за {interval} {days}.'\n",
    "    \n",
    "    change = 'повысится' if forecast[day1].wind > forecast[day2].wind else 'понизится'\n",
    "    amount = abs(forecast[day1].wind - forecast[day2].wind)\n",
    "    \n",
    "    return f'Уровень осадков {change} на {amount} мм за {interval} {days}.'\n",
    "\n",
    "for i in range(1,9):\n",
    "    print(forecast_three('Москва', i, 0, forecast))"
   ]
  },
  {
   "cell_type": "markdown",
   "metadata": {},
   "source": [
    "### 3. Ответьте на вопросы [3 балла]\n",
    "* В каких других задачах (помимо описания прогноза погоды) может понадобиться генерировать текст по шаблонам? В каких задачах может понадобиться генерировать текст об изменении числовых показателей по шаблонам?\n",
    "* Шаблоны, которые вы использовали в этом задании, имеют фиксированную структуру. Фактически, ваша задача заключалась в том, чтобы подставить в шаблон число и согласовать единицы измерения с этим числом или подставить в шаблон название города и согласовать его с предлогом. Как можно разнообразить эти шаблоны? Как знание синтаксической структуры предложения может помочь в этой задаче? "
   ]
  },
  {
   "cell_type": "markdown",
   "metadata": {
    "collapsed": true
   },
   "source": [
    "Генерировать текст по шаблонам может быть необходимо на любом веб-сайте, поисковой выдаче. Например, \"по заданному условию найдено X документов(а)\"\n",
    "\n",
    "Текст об изменениях числовых показателей может понадобится для информирования о ходе биржевых торгов, спортивных соревнований и т.п. Везде, где есть поток числовых данных.\n",
    "\n",
    "Можно использовать несколько шаблонов и чередовать их или выбирать в случайном порядке. Например, \"Завтра в Москве похолодает на 3 градуса\", \"Завтра термометры покажут на 3 градуса меньше\", \"Завтра столбик термометра опустится на 3 градуса\". \n",
    "\n",
    "Можно также попробовать менять порядок слов в предложении, для этого может пригодится дерево зависимостей слов."
   ]
  },
  {
   "cell_type": "markdown",
   "metadata": {},
   "source": [
    "## Часть 2 [10 баллов]\n",
    "Данная часть состоит из пяти пунктов.\n",
    "1. Генерация датасета.\n",
    "2. Обучение классификатора.\n",
    "3. Поиск номеров регулярным выражением.\n",
    "4. Оценка качества работы."
   ]
  },
  {
   "cell_type": "markdown",
   "metadata": {},
   "source": [
    "### 1. Генерация датасета [2 балла].\n",
    "Возьмите любой русский текст (можно взять твиты из семинара). Разбейте его на предложения. Вставьте <b>случайные</b> телефонные номера в любую часть предложения.\n",
    "\n",
    "Примеры номеров:\n",
    ">89268659970\n",
    "\n",
    ">8(495)3451212\n",
    "\n",
    ">+7(234)456-78-90\n",
    "\n",
    ">8(956)234-23-23\n",
    "\n",
    ">85679962312 \n",
    "\n",
    ">+7-845-344-23-65\n",
    "\n",
    "Можете придумать еще вид номеров. Чтобы сгенерировать случайный номер используйте Шаблон и вставляйте в него случайный номер. Запомните позицию вставки (номер слова, после которого будет вставлен номер)."
   ]
  },
  {
   "cell_type": "markdown",
   "metadata": {},
   "source": [
    "Сначала научимся делать шаблоны отображения телефонного номера, можно использовать метод string.format()"
   ]
  },
  {
   "cell_type": "code",
   "execution_count": 78,
   "metadata": {},
   "outputs": [
    {
     "data": {
      "text/plain": [
       "'+7-567-996-2312'"
      ]
     },
     "execution_count": 78,
     "metadata": {},
     "output_type": "execute_result"
    }
   ],
   "source": [
    "\"+7-{}{}{}-{}{}{}-{}{}{}{}\".format(*\"5679962312\")"
   ]
  },
  {
   "cell_type": "markdown",
   "metadata": {},
   "source": [
    "Напишем функцию генерации случайного номера по случайному шаблону:"
   ]
  },
  {
   "cell_type": "code",
   "execution_count": 98,
   "metadata": {},
   "outputs": [
    {
     "name": "stdout",
     "output_type": "stream",
     "text": [
      "8(348)6723345\n",
      "8(178)-741-15-09\n",
      "+7-448-067-9861\n",
      "+7-014-658-98-99\n",
      "+7-(902)-652-3576\n",
      "8(501)3663354\n",
      "+7-973-117-60-30\n",
      "+7-052-037-2567\n",
      "+7-(962)-700-7442\n",
      "+7-718-093-2663\n"
     ]
    }
   ],
   "source": [
    "import random\n",
    "\n",
    "phone_templates = [\n",
    "    \"+7-{}{}{}-{}{}{}-{}{}{}{}\",\n",
    "    \"+7-({}{}{})-{}{}{}-{}{}{}{}\",\n",
    "    \"+7-{}{}{}-{}{}{}-{}{}-{}{}\",\n",
    "    \"8{}{}{}{}{}{}{}{}{}{}\",\n",
    "    \"8({}{}{}){}{}{}{}{}{}{}\",\n",
    "    \"8({}{}{})-{}{}{}-{}{}-{}{}\"\n",
    "]\n",
    "\n",
    "def generate_phone():\n",
    "    phone = ''.join(map(str, random.choices(range(10), k=10)))\n",
    "    template = random.choice(phone_templates)\n",
    "    return template.format(*phone)\n",
    "    \n",
    "for i in range(10):\n",
    "    print(generate_phone())"
   ]
  },
  {
   "cell_type": "markdown",
   "metadata": {},
   "source": [
    "Прочитаем текст и разобъем его на предложения:"
   ]
  },
  {
   "cell_type": "code",
   "execution_count": 95,
   "metadata": {},
   "outputs": [],
   "source": [
    "with open('kapitan.txt', 'r', encoding='utf8') as f:\n",
    "    text_plain = f.read()"
   ]
  },
  {
   "cell_type": "code",
   "execution_count": 96,
   "metadata": {},
   "outputs": [],
   "source": [
    "import nltk\n",
    "\n",
    "def split_data(text):\n",
    "    res = [line.replace(\"\\n\", \"\") for line in nltk.sent_tokenize(text) if len(line.replace(\"\\n\", \"\"))]\n",
    "    return res\n",
    "\n",
    "text = split_data(text_plain)"
   ]
  },
  {
   "cell_type": "markdown",
   "metadata": {},
   "source": [
    "Посмотрим характеристики полученного набора предложений:"
   ]
  },
  {
   "cell_type": "code",
   "execution_count": 97,
   "metadata": {},
   "outputs": [
    {
     "data": {
      "text/plain": [
       "10                       Нас было девять человек детей.\n",
       "11      Все мои братья и сестры умерли во младенчестве.\n",
       "12    Матушка была еще мною брюхата, как уже я был з...\n",
       "13    Если бы паче всякого чаяния матушка родила доч...\n",
       "14              Я считался в отпуску до окончания наук.\n",
       "15         В то время воспитывались мы не по нонешнему.\n",
       "16    С пятилетнего возраста отдан я был на руки стр...\n",
       "17    Под его надзором на двенадцатом году выучился ...\n",
       "18    В это время батюшка нанял для меня француза, м...\n",
       "19           Приезд его сильно не понравился Савельичу.\n",
       "Name: 0, dtype: object"
      ]
     },
     "execution_count": 97,
     "metadata": {},
     "output_type": "execute_result"
    }
   ],
   "source": [
    "import pandas as pd\n",
    "\n",
    "df = pd.DataFrame(text)\n",
    "df[0][10:20]"
   ]
  },
  {
   "cell_type": "code",
   "execution_count": 93,
   "metadata": {},
   "outputs": [
    {
     "data": {
      "text/plain": [
       "count    3382.000000\n",
       "mean       62.975754\n",
       "std        51.965178\n",
       "min         1.000000\n",
       "25%        26.000000\n",
       "50%        49.000000\n",
       "75%        84.000000\n",
       "max       512.000000\n",
       "Name: 0, dtype: float64"
      ]
     },
     "execution_count": 93,
     "metadata": {},
     "output_type": "execute_result"
    }
   ],
   "source": [
    "len_data = df[0].apply(len)\n",
    "len_data.describe()"
   ]
  },
  {
   "cell_type": "code",
   "execution_count": 100,
   "metadata": {},
   "outputs": [
    {
     "data": {
      "text/plain": [
       "['Нас', 'было', 'девять', 'человек', 'детей', '.']"
      ]
     },
     "execution_count": 100,
     "metadata": {},
     "output_type": "execute_result"
    }
   ],
   "source": [
    "word_text = [nltk.word_tokenize(line) for line in text]\n",
    "word_text[10]"
   ]
  },
  {
   "cell_type": "markdown",
   "metadata": {},
   "source": [
    "Напишем функцию, которая будет вставлять номер телефона в предложение и возвращать измененное предложение и позицию, куда был добавлен номер."
   ]
  },
  {
   "cell_type": "code",
   "execution_count": 102,
   "metadata": {},
   "outputs": [
    {
     "data": {
      "text/plain": [
       "(['Нас', 'было', 'девять', 'человек', '+7-756-815-1673', 'детей', '.'], 4)"
      ]
     },
     "execution_count": 102,
     "metadata": {},
     "output_type": "execute_result"
    }
   ],
   "source": [
    "def insert_phone(sentence):\n",
    "    phone = generate_phone()\n",
    "    position = random.choice(range(len(sentence)))\n",
    "    new_sentence = sentence[:]\n",
    "    new_sentence.insert(position, phone)\n",
    "    return new_sentence, position\n",
    "\n",
    "insert_phone(word_text[10])"
   ]
  },
  {
   "cell_type": "markdown",
   "metadata": {},
   "source": [
    "После того, как у вас получился набор предложений с номерами промаркируйте данные. Они должны иметь такой вид:\n",
    "\n",
    "[(\"Уи́льям\", 0), (\"Шекспи́р\", 0), (\"—\", 0), (\"английский\", 0), (\"8(495)3451212\", 1), (\"поэт\", 0), (\"и\", 0), (\"драматург\", 0)]"
   ]
  },
  {
   "cell_type": "markdown",
   "metadata": {},
   "source": [
    "Теперь напишем функцию, которая будет вставлять номер и возвращать размеченное предложение:"
   ]
  },
  {
   "cell_type": "code",
   "execution_count": 119,
   "metadata": {},
   "outputs": [
    {
     "data": {
      "text/plain": [
       "[('Я', 0),\n",
       " ('считался', 0),\n",
       " ('в', 0),\n",
       " ('+7-(565)-141-1488', 1),\n",
       " ('отпуску', 0),\n",
       " ('до', 0),\n",
       " ('окончания', 0),\n",
       " ('наук', 0),\n",
       " ('.', 0)]"
      ]
     },
     "execution_count": 119,
     "metadata": {},
     "output_type": "execute_result"
    }
   ],
   "source": [
    "def label_sentence(sentence):\n",
    "    sentence, position = insert_phone(sentence)\n",
    "    labels = [1 if pos == position else 0 for pos in range(len(sentence))]\n",
    "    return list(zip(sentence, labels))\n",
    "\n",
    "label_sentence(word_text[14])"
   ]
  },
  {
   "cell_type": "markdown",
   "metadata": {},
   "source": [
    "Мы можем использовать эту функцию для того, чтобы разметить все предложения в тексте:"
   ]
  },
  {
   "cell_type": "code",
   "execution_count": 120,
   "metadata": {},
   "outputs": [
    {
     "data": {
      "text/plain": [
       "[('Я', 0),\n",
       " ('считался', 0),\n",
       " ('в', 0),\n",
       " ('отпуску', 0),\n",
       " ('до', 0),\n",
       " ('окончания', 0),\n",
       " ('наук', 0),\n",
       " ('+7-211-107-1492', 1),\n",
       " ('.', 0)]"
      ]
     },
     "execution_count": 120,
     "metadata": {},
     "output_type": "execute_result"
    }
   ],
   "source": [
    "labeled_text = [label_sentence(line) for line in word_text]\n",
    "labeled_text[14]"
   ]
  },
  {
   "cell_type": "markdown",
   "metadata": {},
   "source": [
    "Придумайте признаки для номера и сгенерируйте датасет."
   ]
  },
  {
   "cell_type": "markdown",
   "metadata": {},
   "source": [
    "Поскольку мы вставляем номер телефона в случайное место предложения, позиция номера в предложении не будет играть роли при классификации. Поэтому я предлагаю сформировать датасет для обучения не в виде набора предложений, а в виде размеченного набора слов.\n",
    "В качестве признаков можно использовать частоту знаков, составляющих слово."
   ]
  },
  {
   "cell_type": "code",
   "execution_count": 148,
   "metadata": {},
   "outputs": [],
   "source": [
    "all_words = list()\n",
    "all_labels = list()\n",
    "for line in labeled_text:\n",
    "    words, labels = zip(*line)\n",
    "    all_words.extend(words)\n",
    "    all_labels.extend(labels)"
   ]
  },
  {
   "cell_type": "markdown",
   "metadata": {},
   "source": [
    "В нашем наборе данных есть сильная диспропорция между количеством всех слов и количеством телефонных номеров, телефонные номера составляют всего около 7% от всех слов -- не знаю, как это скажется на обучении:"
   ]
  },
  {
   "cell_type": "code",
   "execution_count": 147,
   "metadata": {},
   "outputs": [
    {
     "data": {
      "text/plain": [
       "7.204021641886423"
      ]
     },
     "execution_count": 147,
     "metadata": {},
     "output_type": "execute_result"
    }
   ],
   "source": [
    "sum(all_labels) * 100.0 / len(all_words)"
   ]
  },
  {
   "cell_type": "markdown",
   "metadata": {},
   "source": [
    "Создадим принзнак -- частота знаков в словах:"
   ]
  },
  {
   "cell_type": "code",
   "execution_count": 152,
   "metadata": {},
   "outputs": [
    {
     "data": {
      "text/plain": [
       "Counter({'8': 1,\n",
       "         '(': 1,\n",
       "         '1': 1,\n",
       "         '0': 2,\n",
       "         '9': 3,\n",
       "         ')': 1,\n",
       "         '-': 3,\n",
       "         '2': 2,\n",
       "         '6': 2})"
      ]
     },
     "execution_count": 152,
     "metadata": {},
     "output_type": "execute_result"
    }
   ],
   "source": [
    "from collections import Counter\n",
    "\n",
    "all_words_with_count = [Counter(word) for word in all_words]\n",
    "\n",
    "all_words_with_count[100]"
   ]
  },
  {
   "cell_type": "markdown",
   "metadata": {},
   "source": [
    "### 2. Обучение классификатора [3 балла].\n",
    "Обучите один или несколько классификаторов."
   ]
  },
  {
   "cell_type": "code",
   "execution_count": 154,
   "metadata": {},
   "outputs": [],
   "source": [
    "from sklearn.metrics import accuracy_score\n",
    "from nltk import NaiveBayesClassifier\n",
    "from sklearn.model_selection import train_test_split"
   ]
  },
  {
   "cell_type": "code",
   "execution_count": 155,
   "metadata": {},
   "outputs": [],
   "source": [
    "X_train, X_test, y_train, y_test = train_test_split(all_words_with_count, all_labels, test_size=0.1)"
   ]
  },
  {
   "cell_type": "code",
   "execution_count": 156,
   "metadata": {},
   "outputs": [],
   "source": [
    "clf = NaiveBayesClassifier.train(zip(X_train, y_train))"
   ]
  },
  {
   "cell_type": "code",
   "execution_count": 166,
   "metadata": {},
   "outputs": [
    {
     "data": {
      "text/plain": [
       "0.9970181043663472"
      ]
     },
     "execution_count": 166,
     "metadata": {},
     "output_type": "execute_result"
    }
   ],
   "source": [
    "pred = clf.classify_many(X_test)\n",
    "accuracy_score(y_test, pred)"
   ]
  },
  {
   "cell_type": "markdown",
   "metadata": {},
   "source": [
    "Как мы видим, точность достаточно высокая. Давайте посмотрим на ошибки классификации:"
   ]
  },
  {
   "cell_type": "code",
   "execution_count": 165,
   "metadata": {},
   "outputs": [
    {
     "name": "stdout",
     "output_type": "stream",
     "text": [
      "Counter({')': 1})\n",
      "Counter({'(': 1})\n",
      "Counter({'(': 1})\n",
      "Counter({')': 1})\n",
      "Counter({'(': 1})\n",
      "Counter({')': 1})\n",
      "Counter({')': 1})\n",
      "Counter({'3': 1, '0': 1})\n",
      "Counter({'(': 1})\n",
      "Counter({'8': 1})\n",
      "Counter({'(': 1})\n",
      "Counter({')': 1})\n",
      "Counter({')': 1})\n",
      "Counter({')': 1})\n"
     ]
    }
   ],
   "source": [
    "for w, p, a in zip(X_test, pred, y_test):\n",
    "    if p != a:\n",
    "        print(w)"
   ]
  },
  {
   "cell_type": "markdown",
   "metadata": {},
   "source": [
    "Как мы видим -- ошибочно распознались слова, которые состоят из одной скобки или нескольких цифр. Давайте добавим еще один признак -- длину слова:"
   ]
  },
  {
   "cell_type": "code",
   "execution_count": 170,
   "metadata": {},
   "outputs": [
    {
     "data": {
      "text/plain": [
       "('детей', Counter({'д': 1, 'е': 2, 'т': 1, 'й': 1, 'len': 5}))"
      ]
     },
     "execution_count": 170,
     "metadata": {},
     "output_type": "execute_result"
    }
   ],
   "source": [
    "all_words_with_len = list()\n",
    "for word in all_words:\n",
    "    d = Counter(word)\n",
    "    d.update({'len': len(word)})\n",
    "    all_words_with_len.append(d)\n",
    "    \n",
    "all_words[200], all_words_with_len[200]"
   ]
  },
  {
   "cell_type": "code",
   "execution_count": 171,
   "metadata": {},
   "outputs": [],
   "source": [
    "X_train, X_test, y_train, y_test = train_test_split(all_words_with_len, all_labels, test_size=0.1)"
   ]
  },
  {
   "cell_type": "code",
   "execution_count": 172,
   "metadata": {},
   "outputs": [],
   "source": [
    "clf = NaiveBayesClassifier.train(zip(X_train, y_train))"
   ]
  },
  {
   "cell_type": "code",
   "execution_count": 173,
   "metadata": {},
   "outputs": [
    {
     "data": {
      "text/plain": [
       "0.9995740149094782"
      ]
     },
     "execution_count": 173,
     "metadata": {},
     "output_type": "execute_result"
    }
   ],
   "source": [
    "pred = clf.classify_many(X_test)\n",
    "accuracy_score(y_test, pred)"
   ]
  },
  {
   "cell_type": "markdown",
   "metadata": {},
   "source": [
    "Точность предсказания существенно улучшилась! В тестовом наборе всего две ошибки:"
   ]
  },
  {
   "cell_type": "code",
   "execution_count": 174,
   "metadata": {},
   "outputs": [
    {
     "name": "stdout",
     "output_type": "stream",
     "text": [
      "Counter({'len': 2, '1': 1, '9': 1})\n",
      "Counter({'len': 8, 'm': 1, 'o': 1, 'n': 1, 's': 1, 'i': 1, 'e': 1, 'u': 1, 'r': 1})\n"
     ]
    }
   ],
   "source": [
    "for w, p, a in zip(X_test, pred, y_test):\n",
    "    if p != a:\n",
    "        print(w)"
   ]
  },
  {
   "cell_type": "markdown",
   "metadata": {},
   "source": [
    "### 3. Поиск номеров регулярным выражением [3 балла].\n",
    "Напишите регулярное выражение для извлечения номера из текста."
   ]
  },
  {
   "cell_type": "code",
   "execution_count": 175,
   "metadata": {},
   "outputs": [
    {
     "name": "stdout",
     "output_type": "stream",
     "text": [
      "8(348)6723345\n",
      "8(178)-741-15-09\n",
      "+7-448-067-9861\n",
      "+7-014-658-98-99\n",
      "+7-(902)-652-3576\n",
      "8(501)3663354\n",
      "+7-973-117-60-30\n",
      "+7-052-037-2567\n",
      "+7-(962)-700-7442\n"
     ]
    }
   ],
   "source": [
    "import re\n",
    "\n",
    "tests = [\n",
    "    '8(348)6723345',\n",
    "    '8(178)-741-15-09',\n",
    "    '+7-448-067-9861',\n",
    "    '+7-014-658-98-99',\n",
    "    '+7-(902)-652-3576',\n",
    "    '8(501)3663354',\n",
    "    '+7-973-117-60-30',\n",
    "    '+7-052-037-2567',\n",
    "    '+7-(962)-700-7442'\n",
    "]\n",
    "\n",
    "phone = re.compile(r'^(\\+7|8)( *|-)\\(?\\d{3}\\)?[\\d -]{7,10}$')\n",
    "for test in tests:\n",
    "    m = phone.match(test)\n",
    "    if m:\n",
    "        print(m.group(0))\n",
    "    else:\n",
    "        print(f\"Test {test} didn't match the pattern\")"
   ]
  },
  {
   "cell_type": "markdown",
   "metadata": {},
   "source": [
    "Проверим на всем тексте:"
   ]
  },
  {
   "cell_type": "code",
   "execution_count": 176,
   "metadata": {},
   "outputs": [],
   "source": [
    "for word, label in zip(all_words, all_labels):\n",
    "    m = phone.match(word)\n",
    "    if bool(m) != bool(label):\n",
    "        print(f'Failed on word: {word}')"
   ]
  },
  {
   "cell_type": "markdown",
   "metadata": {},
   "source": [
    "Регулярное выражение отработало без ошибок на нашем тексте."
   ]
  },
  {
   "cell_type": "markdown",
   "metadata": {},
   "source": [
    "### 4. Оценка качества работы [2 балла]."
   ]
  },
  {
   "cell_type": "markdown",
   "metadata": {},
   "source": [
    "Охарактеризуйте результаты."
   ]
  },
  {
   "cell_type": "markdown",
   "metadata": {
    "collapsed": true
   },
   "source": [
    "Мы обучили Байесовский классификатор на выделение телефонных номеров в тексте, используя в качестве признаков частоту знаков в слове. Точность составила 0.997, что достаточно неплохо. Добавив еще один признак, нам удалось повысить точность до 0.9996"
   ]
  },
  {
   "cell_type": "markdown",
   "metadata": {
    "collapsed": true
   },
   "source": [
    "Регулярное выражение смогло распознать все номера без ошибок на нашем пример, но пример взят не из реальной жизни -- мы сами генерировали номера и точно знаем возможные форматы. Регуляргное выражение может не предусмотреть какие-то форматы, которые могут встретиться в реальной жизни, например, более короткие номера, добавочные номера и т.п."
   ]
  },
  {
   "cell_type": "markdown",
   "metadata": {},
   "source": [
    "Одно из ограничений нашего решения в том, что мы предполагаем, что номер телефона выделяется в отдельный токен. Это учловие соблюдается, если телефонные номера не содержат пробелов. В противном случае, выделение номеров лучше проводить на этапе токенизации."
   ]
  },
  {
   "cell_type": "markdown",
   "metadata": {},
   "source": [
    "Ответьте на вопросы:\n",
    "* правильно ли мы генерировали данные для задачи?\n",
    "* какие признаки и классификаторы будут работать лучше, если мы знаем, как были получены данные."
   ]
  },
  {
   "cell_type": "markdown",
   "metadata": {},
   "source": [
    "Мы генерировали телефонные номера по шаблонам, которые сами же и придумали. Лучше было бы взять примеры текстов, содержащие телефонные номера и предварительно их разметить."
   ]
  },
  {
   "cell_type": "markdown",
   "metadata": {},
   "source": [
    "Регулярные выражения хорошо работают, когда мы знаем все возможные форматы данных. Байесовский классификатор будет лучше работать в условиях реальных данных, но для него нужна правильная токенизация."
   ]
  },
  {
   "cell_type": "markdown",
   "metadata": {},
   "source": [
    "## Сдача домашнего задания\n",
    "\n",
    "Дедлайн сдачи домашнего задания:  23:59 28.04.2018. \n",
    "\n",
    "Результаты домашнего задания должны быть оформлены в виде отчета в jupyter notebook.\n",
    "Нормальный отчёт должен включать в себя:\n",
    "* Краткую постановку задачи и формулировку задания\n",
    "* Описание минимума необходимой теории и/или описание используемых инструментов \n",
    "* Подробный пошаговый рассказ о проделанной работе\n",
    "* **Аккуратно** оформленные результаты\n",
    "* Подробные и внятные ответы на все заданные вопросы \n",
    "* Внятные выводы – не стоит относится к домашнему заданию как к последовательности сугубо технических шагов, а стоит относится скорее как к небольшому практическому исследованию, у которого есть своя цель и свое назначение.\n",
    "\n",
    "\n",
    "Сдача отчетов осуществляется по email: login-const@mail.ru, заголовок письма – NLP-HSE-HW1-ИмяФамилия. \n"
   ]
  }
 ],
 "metadata": {
  "kernelspec": {
   "display_name": "Python 3",
   "language": "python",
   "name": "python3"
  },
  "language_info": {
   "codemirror_mode": {
    "name": "ipython",
    "version": 3
   },
   "file_extension": ".py",
   "mimetype": "text/x-python",
   "name": "python",
   "nbconvert_exporter": "python",
   "pygments_lexer": "ipython3",
   "version": "3.6.4"
  }
 },
 "nbformat": 4,
 "nbformat_minor": 2
}
