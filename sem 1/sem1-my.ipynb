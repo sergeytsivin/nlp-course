{
 "cells": [
  {
   "cell_type": "markdown",
   "metadata": {},
   "source": [
    "# Часть 1. Предобработка текста и классификация"
   ]
  },
  {
   "cell_type": "code",
   "execution_count": 1,
   "metadata": {},
   "outputs": [],
   "source": [
    "import warnings\n",
    "warnings.filterwarnings('ignore')"
   ]
  },
  {
   "cell_type": "markdown",
   "metadata": {},
   "source": [
    "### Прочитайте текст в файлах positive.txt и negative.txt"
   ]
  },
  {
   "cell_type": "code",
   "execution_count": 2,
   "metadata": {},
   "outputs": [],
   "source": [
    "with open(\"positive.txt\", \"r\", encoding=\"utf-8\") as file:\n",
    "    positive_plain = file.read()\n",
    "\n",
    "with open(\"negative.txt\", \"r\", encoding=\"utf-8\") as file:\n",
    "    negative_plain = file.read()"
   ]
  },
  {
   "cell_type": "code",
   "execution_count": 3,
   "metadata": {},
   "outputs": [
    {
     "name": "stdout",
     "output_type": "stream",
     "text": [
      "@first_timee хоть я и школота, но поверь, у нас то же самое :D общество профилирующий предмет типа). Да, все-таки он немного похож на него Но мой мальчик все равно лучше:D. RT @KatiaCheh: Ну ты идиотка) я испугалась за тебя!!!. RT @digger2912: \"Кто то в углу сидит и погибает от голода, а мы ещё 2 порции взяли, хотя уже и так жрать не хотим\" :DD . @irina_dyshkant Вот что значит страшилка :D\n",
      "\n",
      "Но бли\n",
      "\n",
      "на работе был полный пиддес :| и так каждое закрытие месяца, я же свихнусь так D:. Коллеги сидят рубятся в Urban terror, а я из-за долбанной винды не могу :(. @elina_4post как говорят обещаного три года ждут((. Желаю хорошего полёта и удачной посадки,я буду очень сильно скучать( . Обновил за каким-то лешим surf, теперь не работает простоплеер :(. Котёнка вчера носик разбила, плакала и расстраивала\n"
     ]
    }
   ],
   "source": [
    "print(positive_plain[:400], negative_plain[:400], sep=\"\\n\\n\")"
   ]
  },
  {
   "cell_type": "markdown",
   "metadata": {},
   "source": [
    "### Разбейте данные на предложения\n",
    "\n",
    "Для токенизации используйте nltk.sent_tokenize. чтобы удалить имен пользователей из сообщений напишите регулярное выражение.\n",
    "\n",
    "<b>Классы символов в регулярных выражениях</b>:\n",
    "\n",
    "[A-Z] – символы верхнего регистра (латиница)\n",
    "\n",
    "[a-z] – символы нижнего регистра (латиница)\n",
    "\n",
    "[А-Я] – символы верхнего регистра (кириллица)\n",
    "\n",
    "[а-я] – символы нижнего регистра (кириллица)\n",
    "\n",
    "[0-9] или \\d – цифра\n",
    "\n",
    "[^0-9] или \\D – любой символ, кроме цифры\n",
    "\n",
    ". – Один любой символ, кроме новой строки \\n.\n",
    "\n",
    "? – 0 или 1 вхождение шаблона слева\n",
    "\n",
    "\\+ – 1 и более вхождений шаблона слева\n",
    "\n",
    "\\* – 0 и более вхождений шаблона слева\n",
    "\n",
    "\\w – Любая цифра или буква (\\W — все, кроме буквы или цифры)\n",
    "\n",
    "\\d – Любая цифра [0-9] (\\D — все, кроме цифры)\n",
    "\n",
    "\\s – Любой пробельный символ (\\S — любой непробельнй символ)\n",
    "\n",
    "\\b – Граница слова\n",
    "\n",
    "[..] – дин из символов в скобках ([^..] — любой символ, кроме тех, что в скобках)\n",
    "\n",
    "\\ – Экранирование специальных символов (\\. означает точку или \\+ — знак «плюс»)\n",
    "\n",
    "^ и $ – Начало и конец строки соответственно\n",
    "\n",
    "{n,m} – От n до m вхождений ({,m} — от 0 до m)\n",
    "\n",
    "a|b – Соответствует a или b\n",
    "\n",
    "() – Группирует выражение и возвращает найденный текст\n",
    "\n",
    "\\t, \\n, \\r – Символ табуляции, новой строки и возврата каретки соответственно"
   ]
  },
  {
   "cell_type": "code",
   "execution_count": 57,
   "metadata": {},
   "outputs": [],
   "source": [
    "import re\n",
    "from nltk import sent_tokenize\n",
    "\n",
    "\n",
    "def split_data(text):\n",
    "    # Избавляемся от имен пользователей, указанных в письмах\n",
    "    name = re.compile(r'@[A-Z_a-z]+:?')\n",
    "    res = name.sub(\"\", text)\n",
    "    # Удалите лишние переносы строк и разбейте на предложения по знаку \".\"\n",
    "    res = sent_tokenize(res.replace('\\n', ' '))\n",
    "#     res = [item for item in res.replace('\\n', ' ').split('.') if item.strip()]\n",
    "    return res"
   ]
  },
  {
   "cell_type": "code",
   "execution_count": 58,
   "metadata": {},
   "outputs": [],
   "source": [
    "positive = split_data(positive_plain)\n",
    "negative = split_data(negative_plain)"
   ]
  },
  {
   "cell_type": "code",
   "execution_count": 59,
   "metadata": {},
   "outputs": [
    {
     "data": {
      "text/plain": [
       "(5827, 5867)"
      ]
     },
     "execution_count": 59,
     "metadata": {},
     "output_type": "execute_result"
    }
   ],
   "source": [
    "len(positive), len(negative)"
   ]
  },
  {
   "cell_type": "code",
   "execution_count": 60,
   "metadata": {},
   "outputs": [],
   "source": [
    "pos_labels = [1] * len(positive)"
   ]
  },
  {
   "cell_type": "code",
   "execution_count": 61,
   "metadata": {},
   "outputs": [],
   "source": [
    "neg_labels = [0] * len(negative)"
   ]
  },
  {
   "cell_type": "markdown",
   "metadata": {},
   "source": [
    "Объединим все в один список"
   ]
  },
  {
   "cell_type": "code",
   "execution_count": 62,
   "metadata": {},
   "outputs": [],
   "source": [
    "all_text = positive + negative\n",
    "all_labels = pos_labels + neg_labels"
   ]
  },
  {
   "cell_type": "markdown",
   "metadata": {},
   "source": [
    "### Предварительный анализ коллекции"
   ]
  },
  {
   "cell_type": "markdown",
   "metadata": {},
   "source": [
    "#### Средняя длина предложений"
   ]
  },
  {
   "cell_type": "code",
   "execution_count": 63,
   "metadata": {},
   "outputs": [],
   "source": [
    "import pandas as pd"
   ]
  },
  {
   "cell_type": "code",
   "execution_count": 64,
   "metadata": {},
   "outputs": [],
   "source": [
    "df = pd.DataFrame(all_text)"
   ]
  },
  {
   "cell_type": "code",
   "execution_count": 65,
   "metadata": {},
   "outputs": [
    {
     "data": {
      "text/html": [
       "<div>\n",
       "<style scoped>\n",
       "    .dataframe tbody tr th:only-of-type {\n",
       "        vertical-align: middle;\n",
       "    }\n",
       "\n",
       "    .dataframe tbody tr th {\n",
       "        vertical-align: top;\n",
       "    }\n",
       "\n",
       "    .dataframe thead th {\n",
       "        text-align: right;\n",
       "    }\n",
       "</style>\n",
       "<table border=\"1\" class=\"dataframe\">\n",
       "  <thead>\n",
       "    <tr style=\"text-align: right;\">\n",
       "      <th></th>\n",
       "      <th>0</th>\n",
       "    </tr>\n",
       "  </thead>\n",
       "  <tbody>\n",
       "    <tr>\n",
       "      <th>0</th>\n",
       "      <td>хоть я и школота, но поверь, у нас то же само...</td>\n",
       "    </tr>\n",
       "    <tr>\n",
       "      <th>1</th>\n",
       "      <td>Да, все-таки он немного похож на него Но мой м...</td>\n",
       "    </tr>\n",
       "    <tr>\n",
       "      <th>2</th>\n",
       "      <td>RT 2912: \"Кто то в углу сидит и погибает от го...</td>\n",
       "    </tr>\n",
       "    <tr>\n",
       "      <th>3</th>\n",
       "      <td>Вот что значит страшилка :D  Но блин,посмотрев...</td>\n",
       "    </tr>\n",
       "    <tr>\n",
       "      <th>4</th>\n",
       "      <td>— Я не знаю кто ты бля:D .</td>\n",
       "    </tr>\n",
       "    <tr>\n",
       "      <th>5</th>\n",
       "      <td>RT  Ох,900 :D ну это конечно же   Чтобы у нее ...</td>\n",
       "    </tr>\n",
       "    <tr>\n",
       "      <th>6</th>\n",
       "      <td>RT  У тебя есть ухажёр?</td>\n",
       "    </tr>\n",
       "    <tr>\n",
       "      <th>7</th>\n",
       "      <td>Нет - мои уши не кто не жрёт :D. Поприветствуе...</td>\n",
       "    </tr>\n",
       "    <tr>\n",
       "      <th>8</th>\n",
       "      <td>Теперь у меня есть частичка Сиднея :) #Sydney ...</td>\n",
       "    </tr>\n",
       "    <tr>\n",
       "      <th>9</th>\n",
       "      <td>Люблю маму и папу!!!</td>\n",
       "    </tr>\n",
       "    <tr>\n",
       "      <th>10</th>\n",
       "      <td>!а в остальное я так-влюбляюсь, привязываюсь))) .</td>\n",
       "    </tr>\n",
       "    <tr>\n",
       "      <th>11</th>\n",
       "      <td>RT  Как-то я забыла, что вчера приехал из дере...</td>\n",
       "    </tr>\n",
       "    <tr>\n",
       "      <th>12</th>\n",
       "      <td>дааааа))  Ты Ты Ты и только ты)*.</td>\n",
       "    </tr>\n",
       "    <tr>\n",
       "      <th>13</th>\n",
       "      <td>:)) О, нет Вы ведь всё равно обзоры урезаете?</td>\n",
       "    </tr>\n",
       "    <tr>\n",
       "      <th>14</th>\n",
       "      <td>Просто одна версия сильно порезанная, а другая...</td>\n",
       "    </tr>\n",
       "    <tr>\n",
       "      <th>15</th>\n",
       "      <td>смотри там случайно в аспирантуру не попади, н...</td>\n",
       "    </tr>\n",
       "    <tr>\n",
       "      <th>16</th>\n",
       "      <td>RT   эхх, а в УГАТУ о контрольных предупреждаю...</td>\n",
       "    </tr>\n",
       "    <tr>\n",
       "      <th>17</th>\n",
       "      <td>а, а то подумала, что у тебя там пробежечка).</td>\n",
       "    </tr>\n",
       "    <tr>\n",
       "      <th>18</th>\n",
       "      <td>@4EU3 зря вы с этой хуйней шутите)) я много ис...</td>\n",
       "    </tr>\n",
       "    <tr>\n",
       "      <th>19</th>\n",
       "      <td>Очень главное спасибо for   МЕДВЕД™ — он работ...</td>\n",
       "    </tr>\n",
       "    <tr>\n",
       "      <th>20</th>\n",
       "      <td>:-))).</td>\n",
       "    </tr>\n",
       "    <tr>\n",
       "      <th>21</th>\n",
       "      <td>У нас есть прекрасная история, как сдохнуть за...</td>\n",
       "    </tr>\n",
       "    <tr>\n",
       "      <th>22</th>\n",
       "      <td>1610 сегодня столько поводов выпить, что я уже...</td>\n",
       "    </tr>\n",
       "    <tr>\n",
       "      <th>23</th>\n",
       "      <td>унылый?наверноевдруг его перед этим чпокнули?)...</td>\n",
       "    </tr>\n",
       "    <tr>\n",
       "      <th>24</th>\n",
       "      <td>RT    1) При поддержке администрации МО Белевс...</td>\n",
       "    </tr>\n",
       "    <tr>\n",
       "      <th>25</th>\n",
       "      <td>Поприветствуем моего нового читателя  ;).</td>\n",
       "    </tr>\n",
       "    <tr>\n",
       "      <th>26</th>\n",
       "      <td>Как же хооорошо валяться, но мой бедный, обкол...</td>\n",
       "    </tr>\n",
       "    <tr>\n",
       "      <th>27</th>\n",
       "      <td>Хоть у кого то заебись всё) Настюх, рада за те...</td>\n",
       "    </tr>\n",
       "    <tr>\n",
       "      <th>28</th>\n",
       "      <td>да почему мне похуй то)  Новерное потому что е...</td>\n",
       "    </tr>\n",
       "    <tr>\n",
       "      <th>29</th>\n",
       "      <td>блин,хочется писать и писать))всякую хуйню пиш...</td>\n",
       "    </tr>\n",
       "    <tr>\n",
       "      <th>...</th>\n",
       "      <td>...</td>\n",
       "    </tr>\n",
       "    <tr>\n",
       "      <th>11664</th>\n",
       "      <td>Q: обжорик ты мой ,любимый,я скучаю(((((((((((...</td>\n",
       "    </tr>\n",
       "    <tr>\n",
       "      <th>11665</th>\n",
       "      <td>жертва Богу-дух сокрушен Это вызывает у вас не...</td>\n",
       "    </tr>\n",
       "    <tr>\n",
       "      <th>11666</th>\n",
       "      <td>Заставила себя учить семинар:(((( еще и истори...</td>\n",
       "    </tr>\n",
       "    <tr>\n",
       "      <th>11667</th>\n",
       "      <td>почитала свой тви за лето боже, я бухала кажды...</td>\n",
       "    </tr>\n",
       "    <tr>\n",
       "      <th>11668</th>\n",
       "      <td>Офигенная поездка,жаль сувениры не купила(.</td>\n",
       "    </tr>\n",
       "    <tr>\n",
       "      <th>11669</th>\n",
       "      <td>Еще Вовчик молчит скотина уже 2 день не отвеча...</td>\n",
       "    </tr>\n",
       "    <tr>\n",
       "      <th>11670</th>\n",
       "      <td>рань я думала,что ты нормальный,а ты оказался ...</td>\n",
       "    </tr>\n",
       "    <tr>\n",
       "      <th>11671</th>\n",
       "      <td>Увижу Ди,Настю,Гошу и Амира :З Возможно Сашу и...</td>\n",
       "    </tr>\n",
       "    <tr>\n",
       "      <th>11672</th>\n",
       "      <td>жаль что они не так популярны теперь(.</td>\n",
       "    </tr>\n",
       "    <tr>\n",
       "      <th>11673</th>\n",
       "      <td>для полного счастья мне не хватает одного  но ...</td>\n",
       "    </tr>\n",
       "    <tr>\n",
       "      <th>11674</th>\n",
       "      <td>Линта,прастите миня,что не опщалась сигодня с ...</td>\n",
       "    </tr>\n",
       "    <tr>\n",
       "      <th>11675</th>\n",
       "      <td>Доброе утро =( Супер мега бизнес центр на Проф...</td>\n",
       "    </tr>\n",
       "    <tr>\n",
       "      <th>11676</th>\n",
       "      <td>,часа два назад узнала,что он гомосексуалист:(...</td>\n",
       "    </tr>\n",
       "    <tr>\n",
       "      <th>11677</th>\n",
       "      <td>КАК ВАС МНОГО( / ЧТО ВАМ ПРОВЕСТИ?</td>\n",
       "    </tr>\n",
       "    <tr>\n",
       "      <th>11678</th>\n",
       "      <td>/ только у меня уже бошка болииииииииииииит.</td>\n",
       "    </tr>\n",
       "    <tr>\n",
       "      <th>11679</th>\n",
       "      <td>ахахаххахаха, я в начале недели долбанулась гд...</td>\n",
       "    </tr>\n",
       "    <tr>\n",
       "      <th>11680</th>\n",
       "      <td>Бля,почему выходные так быстро проходят :(.</td>\n",
       "    </tr>\n",
       "    <tr>\n",
       "      <th>11681</th>\n",
       "      <td>Боже, наверно, соседей слезами затопил :\"(.</td>\n",
       "    </tr>\n",
       "    <tr>\n",
       "      <th>11682</th>\n",
       "      <td>Вроде у Доктора Клара появилась,но мне грустно...</td>\n",
       "    </tr>\n",
       "    <tr>\n",
       "      <th>11683</th>\n",
       "      <td>RT  Рутв лохи, ахахахааха Написали Noize MC че...</td>\n",
       "    </tr>\n",
       "    <tr>\n",
       "      <th>11684</th>\n",
       "      <td>((     #РУНОВОСТИ .</td>\n",
       "    </tr>\n",
       "    <tr>\n",
       "      <th>11685</th>\n",
       "      <td>10 спасибо,ты даваи  тоже  художественные  нав...</td>\n",
       "    </tr>\n",
       "    <tr>\n",
       "      <th>11686</th>\n",
       "      <td>ну хуй знает я хотела поржать а ты видимо нет ...</td>\n",
       "    </tr>\n",
       "    <tr>\n",
       "      <th>11687</th>\n",
       "      <td>я тока пришел,а ты уходишь:(   Ночи :с. Натааа...</td>\n",
       "    </tr>\n",
       "    <tr>\n",
       "      <th>11688</th>\n",
       "      <td>ой(( я совсем забыла восстановить старый аккау...</td>\n",
       "    </tr>\n",
       "    <tr>\n",
       "      <th>11689</th>\n",
       "      <td>Ну и где ночной твиттер?</td>\n",
       "    </tr>\n",
       "    <tr>\n",
       "      <th>11690</th>\n",
       "      <td>Все спят что ли?</td>\n",
       "    </tr>\n",
       "    <tr>\n",
       "      <th>11691</th>\n",
       "      <td>Так люблю почитать на ночь че другие пишут А в...</td>\n",
       "    </tr>\n",
       "    <tr>\n",
       "      <th>11692</th>\n",
       "      <td>Девочка моя,спасибо тебе за этот вечер мне оче...</td>\n",
       "    </tr>\n",
       "    <tr>\n",
       "      <th>11693</th>\n",
       "      <td>долго объяснять:((( все плохо,вот.</td>\n",
       "    </tr>\n",
       "  </tbody>\n",
       "</table>\n",
       "<p>11694 rows × 1 columns</p>\n",
       "</div>"
      ],
      "text/plain": [
       "                                                       0\n",
       "0       хоть я и школота, но поверь, у нас то же само...\n",
       "1      Да, все-таки он немного похож на него Но мой м...\n",
       "2      RT 2912: \"Кто то в углу сидит и погибает от го...\n",
       "3      Вот что значит страшилка :D  Но блин,посмотрев...\n",
       "4                             — Я не знаю кто ты бля:D .\n",
       "5      RT  Ох,900 :D ну это конечно же   Чтобы у нее ...\n",
       "6                                RT  У тебя есть ухажёр?\n",
       "7      Нет - мои уши не кто не жрёт :D. Поприветствуе...\n",
       "8      Теперь у меня есть частичка Сиднея :) #Sydney ...\n",
       "9                                   Люблю маму и папу!!!\n",
       "10     !а в остальное я так-влюбляюсь, привязываюсь))) .\n",
       "11     RT  Как-то я забыла, что вчера приехал из дере...\n",
       "12                     дааааа))  Ты Ты Ты и только ты)*.\n",
       "13         :)) О, нет Вы ведь всё равно обзоры урезаете?\n",
       "14     Просто одна версия сильно порезанная, а другая...\n",
       "15     смотри там случайно в аспирантуру не попади, н...\n",
       "16     RT   эхх, а в УГАТУ о контрольных предупреждаю...\n",
       "17         а, а то подумала, что у тебя там пробежечка).\n",
       "18     @4EU3 зря вы с этой хуйней шутите)) я много ис...\n",
       "19     Очень главное спасибо for   МЕДВЕД™ — он работ...\n",
       "20                                                :-))).\n",
       "21     У нас есть прекрасная история, как сдохнуть за...\n",
       "22     1610 сегодня столько поводов выпить, что я уже...\n",
       "23     унылый?наверноевдруг его перед этим чпокнули?)...\n",
       "24     RT    1) При поддержке администрации МО Белевс...\n",
       "25             Поприветствуем моего нового читателя  ;).\n",
       "26     Как же хооорошо валяться, но мой бедный, обкол...\n",
       "27     Хоть у кого то заебись всё) Настюх, рада за те...\n",
       "28     да почему мне похуй то)  Новерное потому что е...\n",
       "29     блин,хочется писать и писать))всякую хуйню пиш...\n",
       "...                                                  ...\n",
       "11664  Q: обжорик ты мой ,любимый,я скучаю(((((((((((...\n",
       "11665  жертва Богу-дух сокрушен Это вызывает у вас не...\n",
       "11666  Заставила себя учить семинар:(((( еще и истори...\n",
       "11667  почитала свой тви за лето боже, я бухала кажды...\n",
       "11668        Офигенная поездка,жаль сувениры не купила(.\n",
       "11669  Еще Вовчик молчит скотина уже 2 день не отвеча...\n",
       "11670  рань я думала,что ты нормальный,а ты оказался ...\n",
       "11671  Увижу Ди,Настю,Гошу и Амира :З Возможно Сашу и...\n",
       "11672             жаль что они не так популярны теперь(.\n",
       "11673  для полного счастья мне не хватает одного  но ...\n",
       "11674  Линта,прастите миня,что не опщалась сигодня с ...\n",
       "11675  Доброе утро =( Супер мега бизнес центр на Проф...\n",
       "11676  ,часа два назад узнала,что он гомосексуалист:(...\n",
       "11677                 КАК ВАС МНОГО( / ЧТО ВАМ ПРОВЕСТИ?\n",
       "11678       / только у меня уже бошка болииииииииииииит.\n",
       "11679  ахахаххахаха, я в начале недели долбанулась гд...\n",
       "11680        Бля,почему выходные так быстро проходят :(.\n",
       "11681        Боже, наверно, соседей слезами затопил :\"(.\n",
       "11682  Вроде у Доктора Клара появилась,но мне грустно...\n",
       "11683  RT  Рутв лохи, ахахахааха Написали Noize MC че...\n",
       "11684                                ((     #РУНОВОСТИ .\n",
       "11685  10 спасибо,ты даваи  тоже  художественные  нав...\n",
       "11686  ну хуй знает я хотела поржать а ты видимо нет ...\n",
       "11687  я тока пришел,а ты уходишь:(   Ночи :с. Натааа...\n",
       "11688  ой(( я совсем забыла восстановить старый аккау...\n",
       "11689                           Ну и где ночной твиттер?\n",
       "11690                                   Все спят что ли?\n",
       "11691  Так люблю почитать на ночь че другие пишут А в...\n",
       "11692  Девочка моя,спасибо тебе за этот вечер мне оче...\n",
       "11693                 долго объяснять:((( все плохо,вот.\n",
       "\n",
       "[11694 rows x 1 columns]"
      ]
     },
     "execution_count": 65,
     "metadata": {},
     "output_type": "execute_result"
    }
   ],
   "source": [
    "df"
   ]
  },
  {
   "cell_type": "code",
   "execution_count": 66,
   "metadata": {},
   "outputs": [],
   "source": [
    "len_data = df[0].apply(len)"
   ]
  },
  {
   "cell_type": "code",
   "execution_count": 67,
   "metadata": {},
   "outputs": [
    {
     "data": {
      "text/plain": [
       "count    11694.000000\n",
       "mean        60.528647\n",
       "std         35.622165\n",
       "min          1.000000\n",
       "25%         36.000000\n",
       "50%         55.000000\n",
       "75%         80.000000\n",
       "max        309.000000\n",
       "Name: 0, dtype: float64"
      ]
     },
     "execution_count": 67,
     "metadata": {},
     "output_type": "execute_result"
    }
   ],
   "source": [
    "len_data.describe()"
   ]
  },
  {
   "cell_type": "markdown",
   "metadata": {},
   "source": [
    "#### Длины текстов в символах"
   ]
  },
  {
   "cell_type": "code",
   "execution_count": 68,
   "metadata": {},
   "outputs": [
    {
     "name": "stdout",
     "output_type": "stream",
     "text": [
      "Populating the interactive namespace from numpy and matplotlib\n"
     ]
    }
   ],
   "source": [
    "import matplotlib.pyplot as plt\n",
    "\n",
    "%pylab inline"
   ]
  },
  {
   "cell_type": "code",
   "execution_count": 69,
   "metadata": {},
   "outputs": [
    {
     "data": {
      "image/png": "[encoded data removed]",
      "text/plain": [
       "<Figure size 432x288 with 1 Axes>"
      ]
     },
     "metadata": {},
     "output_type": "display_data"
    }
   ],
   "source": [
    "fig, ax = plt.subplots()\n",
    "\n",
    "n, bins, patches = ax.hist(len_data.tolist())\n",
    "\n",
    "fig.show()"
   ]
  },
  {
   "cell_type": "markdown",
   "metadata": {},
   "source": [
    "#### Самые частые слова"
   ]
  },
  {
   "cell_type": "markdown",
   "metadata": {},
   "source": [
    "Токенизируйте предложения на слова (nltk.word_tokenize)"
   ]
  },
  {
   "cell_type": "code",
   "execution_count": 70,
   "metadata": {},
   "outputs": [],
   "source": [
    "from nltk import word_tokenize\n",
    "\n",
    "\n",
    "all_text = [word_tokenize(line) for line in all_text]"
   ]
  },
  {
   "cell_type": "code",
   "execution_count": 73,
   "metadata": {},
   "outputs": [
    {
     "data": {
      "text/plain": [
       "['хоть',\n",
       " 'я',\n",
       " 'и',\n",
       " 'школота',\n",
       " ',',\n",
       " 'но',\n",
       " 'поверь',\n",
       " ',',\n",
       " 'у',\n",
       " 'нас',\n",
       " 'то',\n",
       " 'же',\n",
       " 'самое',\n",
       " ':',\n",
       " 'D',\n",
       " 'общество',\n",
       " 'профилирующий',\n",
       " 'предмет',\n",
       " 'типа',\n",
       " ')',\n",
       " '.']"
      ]
     },
     "execution_count": 73,
     "metadata": {},
     "output_type": "execute_result"
    }
   ],
   "source": [
    "all_text[0]"
   ]
  },
  {
   "cell_type": "code",
   "execution_count": 74,
   "metadata": {},
   "outputs": [
    {
     "name": "stdout",
     "output_type": "stream",
     "text": [
      "('.', 9509)\n",
      "('(', 9258)\n",
      "(')', 8719)\n",
      "(',', 8317)\n",
      "(':', 5003)\n",
      "('не', 3029)\n",
      "('!', 2904)\n",
      "('и', 2402)\n",
      "('я', 2358)\n",
      "('в', 2333)\n"
     ]
    }
   ],
   "source": [
    "from nltk import FreqDist\n",
    "\n",
    "\n",
    "n_types = []\n",
    "n_tokens = []\n",
    "fd = FreqDist()\n",
    "for line in all_text:\n",
    "    fd.update(line)\n",
    "    n_types.append(len(fd)) # same as n_types.append(fd.B())\n",
    "    n_tokens.append(sum(list(fd.values()))) # same as n_tokens.append(fd.N())\n",
    "for i in fd.most_common(10):\n",
    "    print(i)"
   ]
  },
  {
   "cell_type": "code",
   "execution_count": 144,
   "metadata": {},
   "outputs": [
    {
     "data": {
      "text/plain": [
       "(29645, 29645, 164608, 146820, 164608)"
      ]
     },
     "execution_count": 144,
     "metadata": {},
     "output_type": "execute_result"
    }
   ],
   "source": [
    "len(fd), fd.B(), fd.N(), sum([len(line) for line in all_text]), sum(list(fd.values()))"
   ]
  },
  {
   "cell_type": "markdown",
   "metadata": {},
   "source": [
    "#### Закон Ципфа\n",
    "\n",
    "В любом достаточно большом тексте ранг типа обратно пропорционален его частоте: f=a/r\n",
    "\n",
    "f – частота типа, r – ранг типа, a – параметр, для славянских языков – около 0.07"
   ]
  },
  {
   "cell_type": "code",
   "execution_count": 79,
   "metadata": {
    "collapsed": true
   },
   "outputs": [
    {
     "data": {
      "text/plain": [
       "[9509,\n",
       " 9258,\n",
       " 8719,\n",
       " 8317,\n",
       " 5003,\n",
       " 3029,\n",
       " 2904,\n",
       " 2402,\n",
       " 2358,\n",
       " 2333,\n",
       " 1638,\n",
       " 1626,\n",
       " 1478,\n",
       " 1436,\n",
       " 1179,\n",
       " 1165,\n",
       " 958,\n",
       " 839,\n",
       " 824,\n",
       " 811,\n",
       " 786,\n",
       " 750,\n",
       " 724,\n",
       " 698,\n",
       " 639,\n",
       " 605,\n",
       " 540,\n",
       " 538,\n",
       " 511,\n",
       " 504,\n",
       " 499,\n",
       " 497,\n",
       " 476,\n",
       " 439,\n",
       " 434,\n",
       " 426,\n",
       " 405,\n",
       " 399,\n",
       " 356,\n",
       " 354,\n",
       " 341,\n",
       " 337,\n",
       " 336,\n",
       " 333,\n",
       " 320,\n",
       " 315,\n",
       " 308,\n",
       " 302,\n",
       " 299,\n",
       " 298,\n",
       " 289,\n",
       " 285,\n",
       " 277,\n",
       " 268,\n",
       " 268,\n",
       " 262,\n",
       " 255,\n",
       " 251,\n",
       " 250,\n",
       " 249,\n",
       " 243,\n",
       " 234,\n",
       " 226,\n",
       " 224,\n",
       " 223,\n",
       " 215,\n",
       " 214,\n",
       " 213,\n",
       " 208,\n",
       " 207,\n",
       " 206,\n",
       " 200,\n",
       " 198,\n",
       " 188,\n",
       " 181,\n",
       " 179,\n",
       " 178,\n",
       " 177,\n",
       " 175,\n",
       " 169,\n",
       " 168,\n",
       " 167,\n",
       " 166,\n",
       " 166,\n",
       " 164,\n",
       " 163,\n",
       " 161,\n",
       " 158,\n",
       " 155,\n",
       " 153,\n",
       " 152,\n",
       " 147,\n",
       " 145,\n",
       " 144,\n",
       " 143,\n",
       " 142,\n",
       " 136,\n",
       " 135,\n",
       " 135,\n",
       " 134,\n",
       " 131,\n",
       " 129,\n",
       " 126,\n",
       " 126,\n",
       " 125,\n",
       " 123,\n",
       " 121,\n",
       " 121,\n",
       " 121,\n",
       " 121,\n",
       " 119,\n",
       " 119,\n",
       " 119,\n",
       " 119,\n",
       " 118,\n",
       " 111,\n",
       " 111,\n",
       " 110,\n",
       " 109,\n",
       " 106,\n",
       " 106,\n",
       " 106,\n",
       " 106,\n",
       " 105,\n",
       " 104,\n",
       " 104,\n",
       " 102,\n",
       " 101,\n",
       " 101,\n",
       " 101,\n",
       " 100,\n",
       " 100,\n",
       " 98,\n",
       " 97,\n",
       " 97,\n",
       " 94,\n",
       " 93,\n",
       " 92,\n",
       " 91,\n",
       " 90,\n",
       " 90,\n",
       " 89,\n",
       " 88,\n",
       " 88,\n",
       " 86,\n",
       " 85,\n",
       " 84,\n",
       " 83,\n",
       " 82,\n",
       " 81,\n",
       " 81,\n",
       " 80,\n",
       " 79,\n",
       " 79,\n",
       " 78,\n",
       " 78,\n",
       " 78,\n",
       " 78,\n",
       " 78,\n",
       " 77,\n",
       " 76,\n",
       " 76,\n",
       " 76,\n",
       " 75,\n",
       " 73,\n",
       " 73,\n",
       " 72,\n",
       " 71,\n",
       " 71,\n",
       " 70,\n",
       " 70,\n",
       " 69,\n",
       " 69,\n",
       " 69,\n",
       " 68,\n",
       " 67,\n",
       " 67,\n",
       " 67,\n",
       " 66,\n",
       " 66,\n",
       " 66,\n",
       " 66,\n",
       " 66,\n",
       " 65,\n",
       " 64,\n",
       " 63,\n",
       " 63,\n",
       " 63,\n",
       " 63,\n",
       " 62,\n",
       " 62,\n",
       " 62,\n",
       " 61,\n",
       " 61,\n",
       " 61,\n",
       " 60,\n",
       " 60,\n",
       " 59,\n",
       " 59,\n",
       " 58,\n",
       " 58,\n",
       " 58,\n",
       " 58,\n",
       " 57,\n",
       " 57,\n",
       " 56,\n",
       " 55,\n",
       " 55,\n",
       " 55,\n",
       " 55,\n",
       " 55,\n",
       " 55,\n",
       " 55,\n",
       " 55,\n",
       " 55,\n",
       " 54,\n",
       " 54,\n",
       " 54,\n",
       " 53,\n",
       " 53,\n",
       " 53,\n",
       " 53,\n",
       " 53,\n",
       " 53,\n",
       " 52,\n",
       " 52,\n",
       " 51,\n",
       " 51,\n",
       " 51,\n",
       " 51,\n",
       " 51,\n",
       " 51,\n",
       " 51,\n",
       " 50,\n",
       " 50,\n",
       " 50,\n",
       " 50,\n",
       " 50,\n",
       " 49,\n",
       " 49,\n",
       " 49,\n",
       " 48,\n",
       " 48,\n",
       " 48,\n",
       " 48,\n",
       " 48,\n",
       " 48,\n",
       " 48,\n",
       " 48,\n",
       " 47,\n",
       " 47,\n",
       " 47,\n",
       " 47,\n",
       " 47,\n",
       " 47,\n",
       " 47,\n",
       " 46,\n",
       " 46,\n",
       " 46,\n",
       " 46,\n",
       " 46,\n",
       " 46,\n",
       " 46,\n",
       " 46,\n",
       " 46,\n",
       " 45,\n",
       " 45,\n",
       " 45,\n",
       " 45,\n",
       " 45,\n",
       " 45,\n",
       " 44,\n",
       " 44,\n",
       " 44,\n",
       " 44,\n",
       " 44,\n",
       " 44,\n",
       " 43,\n",
       " 43,\n",
       " 43,\n",
       " 43,\n",
       " 43,\n",
       " 43,\n",
       " 43,\n",
       " 43,\n",
       " 43,\n",
       " 43,\n",
       " 42,\n",
       " 42,\n",
       " 42,\n",
       " 42,\n",
       " 41,\n",
       " 41,\n",
       " 41,\n",
       " 41,\n",
       " 41,\n",
       " 41,\n",
       " 40,\n",
       " 40,\n",
       " 40,\n",
       " 40,\n",
       " 40,\n",
       " 40,\n",
       " 39,\n",
       " 39,\n",
       " 39,\n",
       " 39,\n",
       " 39,\n",
       " 39,\n",
       " 39,\n",
       " 39,\n",
       " 38,\n",
       " 38,\n",
       " 38,\n",
       " 38,\n",
       " 38,\n",
       " 38,\n",
       " 38,\n",
       " 38,\n",
       " 38,\n",
       " 37,\n",
       " 37,\n",
       " 37,\n",
       " 37,\n",
       " 37,\n",
       " 37,\n",
       " 37,\n",
       " 37,\n",
       " 37,\n",
       " 37,\n",
       " 37,\n",
       " 37,\n",
       " 37,\n",
       " 36,\n",
       " 35,\n",
       " 35,\n",
       " 35,\n",
       " 35,\n",
       " 35,\n",
       " 35,\n",
       " 35,\n",
       " 35,\n",
       " 35,\n",
       " 35,\n",
       " 35,\n",
       " 35,\n",
       " 34,\n",
       " 34,\n",
       " 34,\n",
       " 34,\n",
       " 34,\n",
       " 34,\n",
       " 34,\n",
       " 34,\n",
       " 34,\n",
       " 34,\n",
       " 34,\n",
       " 33,\n",
       " 33,\n",
       " 33,\n",
       " 33,\n",
       " 33,\n",
       " 33,\n",
       " 33,\n",
       " 33,\n",
       " 33,\n",
       " 33,\n",
       " 33,\n",
       " 33,\n",
       " 33,\n",
       " 32,\n",
       " 32,\n",
       " 32,\n",
       " 32,\n",
       " 32,\n",
       " 32,\n",
       " 32,\n",
       " 32,\n",
       " 32,\n",
       " 32,\n",
       " 32,\n",
       " 32,\n",
       " 32,\n",
       " 32,\n",
       " 31,\n",
       " 31,\n",
       " 31,\n",
       " 31,\n",
       " 31,\n",
       " 31,\n",
       " 31,\n",
       " 31,\n",
       " 31,\n",
       " 31,\n",
       " 31,\n",
       " 31,\n",
       " 30,\n",
       " 30,\n",
       " 30,\n",
       " 30,\n",
       " 30,\n",
       " 30,\n",
       " 30,\n",
       " 30,\n",
       " 30,\n",
       " 29,\n",
       " 29,\n",
       " 29,\n",
       " 29,\n",
       " 29,\n",
       " 29,\n",
       " 29,\n",
       " 29,\n",
       " 29,\n",
       " 29,\n",
       " 29,\n",
       " 29,\n",
       " 29,\n",
       " 29,\n",
       " 29,\n",
       " 29,\n",
       " 29,\n",
       " 29,\n",
       " 29,\n",
       " 29,\n",
       " 29,\n",
       " 28,\n",
       " 28,\n",
       " 28,\n",
       " 28,\n",
       " 28,\n",
       " 28,\n",
       " 28,\n",
       " 28,\n",
       " 28,\n",
       " 28,\n",
       " 28,\n",
       " 28,\n",
       " 28,\n",
       " 28,\n",
       " 28,\n",
       " 27,\n",
       " 27,\n",
       " 27,\n",
       " 27,\n",
       " 27,\n",
       " 27,\n",
       " 27,\n",
       " 27,\n",
       " 27,\n",
       " 27,\n",
       " 27,\n",
       " 27,\n",
       " 27,\n",
       " 26,\n",
       " 26,\n",
       " 26,\n",
       " 26,\n",
       " 26,\n",
       " 26,\n",
       " 26,\n",
       " 26,\n",
       " 26,\n",
       " 26,\n",
       " 26,\n",
       " 26,\n",
       " 26,\n",
       " 26,\n",
       " 26,\n",
       " 26,\n",
       " 26,\n",
       " 26,\n",
       " 26,\n",
       " 26,\n",
       " 25,\n",
       " 25,\n",
       " 25,\n",
       " 25,\n",
       " 25,\n",
       " 25,\n",
       " 25,\n",
       " 25,\n",
       " 25,\n",
       " 25,\n",
       " 25,\n",
       " 25,\n",
       " 25,\n",
       " 25,\n",
       " 25,\n",
       " 25,\n",
       " 25,\n",
       " 25,\n",
       " 25,\n",
       " 25,\n",
       " 24,\n",
       " 24,\n",
       " 24,\n",
       " 24,\n",
       " 24,\n",
       " 24,\n",
       " 24,\n",
       " 24,\n",
       " 24,\n",
       " 24,\n",
       " 24,\n",
       " 24,\n",
       " 24,\n",
       " 24,\n",
       " 24,\n",
       " 24,\n",
       " 24,\n",
       " 24,\n",
       " 24,\n",
       " 24,\n",
       " 24,\n",
       " 24,\n",
       " 24,\n",
       " 24,\n",
       " 24,\n",
       " 24,\n",
       " 24,\n",
       " 23,\n",
       " 23,\n",
       " 23,\n",
       " 23,\n",
       " 23,\n",
       " 23,\n",
       " 23,\n",
       " 23,\n",
       " 23,\n",
       " 23,\n",
       " 23,\n",
       " 23,\n",
       " 23,\n",
       " 23,\n",
       " 23,\n",
       " 23,\n",
       " 23,\n",
       " 23,\n",
       " 23,\n",
       " 23,\n",
       " 23,\n",
       " 23,\n",
       " 23,\n",
       " 23,\n",
       " 23,\n",
       " 22,\n",
       " 22,\n",
       " 22,\n",
       " 22,\n",
       " 22,\n",
       " 22,\n",
       " 22,\n",
       " 22,\n",
       " 22,\n",
       " 22,\n",
       " 22,\n",
       " 22,\n",
       " 22,\n",
       " 22,\n",
       " 22,\n",
       " 22,\n",
       " 22,\n",
       " 22,\n",
       " 22,\n",
       " 22,\n",
       " 22,\n",
       " 22,\n",
       " 22,\n",
       " 22,\n",
       " 21,\n",
       " 21,\n",
       " 21,\n",
       " 21,\n",
       " 21,\n",
       " 21,\n",
       " 21,\n",
       " 21,\n",
       " 21,\n",
       " 21,\n",
       " 21,\n",
       " 21,\n",
       " 21,\n",
       " 21,\n",
       " 21,\n",
       " 21,\n",
       " 21,\n",
       " 21,\n",
       " 21,\n",
       " 21,\n",
       " 21,\n",
       " 21,\n",
       " 20,\n",
       " 20,\n",
       " 20,\n",
       " 20,\n",
       " 20,\n",
       " 20,\n",
       " 20,\n",
       " 20,\n",
       " 20,\n",
       " 20,\n",
       " 20,\n",
       " 20,\n",
       " 20,\n",
       " 20,\n",
       " 20,\n",
       " 20,\n",
       " 20,\n",
       " 20,\n",
       " 20,\n",
       " 20,\n",
       " 20,\n",
       " 20,\n",
       " 20,\n",
       " 20,\n",
       " 20,\n",
       " 20,\n",
       " 20,\n",
       " 20,\n",
       " 20,\n",
       " 20,\n",
       " 20,\n",
       " 19,\n",
       " 19,\n",
       " 19,\n",
       " 19,\n",
       " 19,\n",
       " 19,\n",
       " 19,\n",
       " 19,\n",
       " 19,\n",
       " 19,\n",
       " 19,\n",
       " 19,\n",
       " 19,\n",
       " 19,\n",
       " 19,\n",
       " 19,\n",
       " 19,\n",
       " 19,\n",
       " 19,\n",
       " 19,\n",
       " 19,\n",
       " 18,\n",
       " 18,\n",
       " 18,\n",
       " 18,\n",
       " 18,\n",
       " 18,\n",
       " 18,\n",
       " 18,\n",
       " 18,\n",
       " 18,\n",
       " 18,\n",
       " 18,\n",
       " 18,\n",
       " 18,\n",
       " 18,\n",
       " 18,\n",
       " 18,\n",
       " 18,\n",
       " 18,\n",
       " 18,\n",
       " 18,\n",
       " 18,\n",
       " 18,\n",
       " 18,\n",
       " 18,\n",
       " 18,\n",
       " 18,\n",
       " 18,\n",
       " 18,\n",
       " 18,\n",
       " 18,\n",
       " 18,\n",
       " 18,\n",
       " 18,\n",
       " 18,\n",
       " 18,\n",
       " 18,\n",
       " 18,\n",
       " 18,\n",
       " 17,\n",
       " 17,\n",
       " 17,\n",
       " 17,\n",
       " 17,\n",
       " 17,\n",
       " 17,\n",
       " 17,\n",
       " 17,\n",
       " 17,\n",
       " 17,\n",
       " 17,\n",
       " 17,\n",
       " 17,\n",
       " 17,\n",
       " 17,\n",
       " 17,\n",
       " 17,\n",
       " 17,\n",
       " 17,\n",
       " 17,\n",
       " 17,\n",
       " 17,\n",
       " 17,\n",
       " 17,\n",
       " 17,\n",
       " 17,\n",
       " 17,\n",
       " 17,\n",
       " 17,\n",
       " 17,\n",
       " 17,\n",
       " 17,\n",
       " 17,\n",
       " 17,\n",
       " 17,\n",
       " 17,\n",
       " 17,\n",
       " 17,\n",
       " 17,\n",
       " 17,\n",
       " 17,\n",
       " 16,\n",
       " 16,\n",
       " 16,\n",
       " 16,\n",
       " 16,\n",
       " 16,\n",
       " 16,\n",
       " 16,\n",
       " 16,\n",
       " 16,\n",
       " 16,\n",
       " 16,\n",
       " 16,\n",
       " 16,\n",
       " 16,\n",
       " 16,\n",
       " 16,\n",
       " 16,\n",
       " 16,\n",
       " 16,\n",
       " 16,\n",
       " 16,\n",
       " 16,\n",
       " 16,\n",
       " 16,\n",
       " 16,\n",
       " 16,\n",
       " 16,\n",
       " 16,\n",
       " 16,\n",
       " 16,\n",
       " 16,\n",
       " 16,\n",
       " 16,\n",
       " 16,\n",
       " 16,\n",
       " 16,\n",
       " 16,\n",
       " 16,\n",
       " 16,\n",
       " 16,\n",
       " 16,\n",
       " 16,\n",
       " 16,\n",
       " 16,\n",
       " 16,\n",
       " 15,\n",
       " 15,\n",
       " 15,\n",
       " 15,\n",
       " 15,\n",
       " 15,\n",
       " 15,\n",
       " 15,\n",
       " 15,\n",
       " 15,\n",
       " 15,\n",
       " 15,\n",
       " 15,\n",
       " 15,\n",
       " 15,\n",
       " 15,\n",
       " 15,\n",
       " 15,\n",
       " 15,\n",
       " 15,\n",
       " 15,\n",
       " 15,\n",
       " 15,\n",
       " 15,\n",
       " 15,\n",
       " 15,\n",
       " 15,\n",
       " 15,\n",
       " 15,\n",
       " 15,\n",
       " 15,\n",
       " 15,\n",
       " 15,\n",
       " 15,\n",
       " 15,\n",
       " 15,\n",
       " 15,\n",
       " 15,\n",
       " 15,\n",
       " 15,\n",
       " 15,\n",
       " 15,\n",
       " 15,\n",
       " 15,\n",
       " 15,\n",
       " 15,\n",
       " 15,\n",
       " 14,\n",
       " 14,\n",
       " 14,\n",
       " 14,\n",
       " 14,\n",
       " 14,\n",
       " 14,\n",
       " 14,\n",
       " 14,\n",
       " 14,\n",
       " 14,\n",
       " 14,\n",
       " 14,\n",
       " 14,\n",
       " 14,\n",
       " 14,\n",
       " 14,\n",
       " 14,\n",
       " 14,\n",
       " 14,\n",
       " 14,\n",
       " 14,\n",
       " 14,\n",
       " 14,\n",
       " 14,\n",
       " 14,\n",
       " 14,\n",
       " 14,\n",
       " 14,\n",
       " 14,\n",
       " 14,\n",
       " 14,\n",
       " 14,\n",
       " 14,\n",
       " 14,\n",
       " 14,\n",
       " 14,\n",
       " 14,\n",
       " 14,\n",
       " 14,\n",
       " 14,\n",
       " 14,\n",
       " 14,\n",
       " 14,\n",
       " 14,\n",
       " 14,\n",
       " 14,\n",
       " 14,\n",
       " 14,\n",
       " 14,\n",
       " 14,\n",
       " 13,\n",
       " 13,\n",
       " 13,\n",
       " 13,\n",
       " 13,\n",
       " 13,\n",
       " 13,\n",
       " 13,\n",
       " 13,\n",
       " 13,\n",
       " 13,\n",
       " 13,\n",
       " 13,\n",
       " 13,\n",
       " 13,\n",
       " 13,\n",
       " 13,\n",
       " 13,\n",
       " 13,\n",
       " 13,\n",
       " 13,\n",
       " 13,\n",
       " 13,\n",
       " 13,\n",
       " 13,\n",
       " 13,\n",
       " 13,\n",
       " 13,\n",
       " 13,\n",
       " 13,\n",
       " 13,\n",
       " 13,\n",
       " 13,\n",
       " 13,\n",
       " 13,\n",
       " 13,\n",
       " 13,\n",
       " 13,\n",
       " 13,\n",
       " 13,\n",
       " 13,\n",
       " 13,\n",
       " 13,\n",
       " 13,\n",
       " 13,\n",
       " 13,\n",
       " 13,\n",
       " 13,\n",
       " 13,\n",
       " 13,\n",
       " 13,\n",
       " 13,\n",
       " 13,\n",
       " 13,\n",
       " 13,\n",
       " 13,\n",
       " 13,\n",
       " 13,\n",
       " 13,\n",
       " 13,\n",
       " 13,\n",
       " 13,\n",
       " 13,\n",
       " 13,\n",
       " 13,\n",
       " 13,\n",
       " 13,\n",
       " 13,\n",
       " 12,\n",
       " 12,\n",
       " 12,\n",
       " 12,\n",
       " 12,\n",
       " 12,\n",
       " 12,\n",
       " 12,\n",
       " 12,\n",
       " 12,\n",
       " 12,\n",
       " 12,\n",
       " 12,\n",
       " 12,\n",
       " 12,\n",
       " 12,\n",
       " 12,\n",
       " 12,\n",
       " 12,\n",
       " 12,\n",
       " 12,\n",
       " 12,\n",
       " 12,\n",
       " 12,\n",
       " 12,\n",
       " 12,\n",
       " 12,\n",
       " 12,\n",
       " 12,\n",
       " 12,\n",
       " 12,\n",
       " 12,\n",
       " 12,\n",
       " 12,\n",
       " 12,\n",
       " 12,\n",
       " 12,\n",
       " 12,\n",
       " 12,\n",
       " 12,\n",
       " 12,\n",
       " 12,\n",
       " 12,\n",
       " 12,\n",
       " 12,\n",
       " 12,\n",
       " 12,\n",
       " 12,\n",
       " 12,\n",
       " 12,\n",
       " 12,\n",
       " 12,\n",
       " 12,\n",
       " 12,\n",
       " 12,\n",
       " 12,\n",
       " 12,\n",
       " 12,\n",
       " 12,\n",
       " 12,\n",
       " 12,\n",
       " 12,\n",
       " 12,\n",
       " ...]"
      ]
     },
     "execution_count": 79,
     "metadata": {},
     "output_type": "execute_result"
    }
   ],
   "source": [
    "freqs = list(fd.values())\n",
    "freqs = sorted(freqs, reverse = True)\n",
    "freqs"
   ]
  },
  {
   "cell_type": "code",
   "execution_count": 80,
   "metadata": {},
   "outputs": [
    {
     "data": {
      "image/png": "[encoded data removed]",
      "text/plain": [
       "<Figure size 432x288 with 1 Axes>"
      ]
     },
     "metadata": {},
     "output_type": "display_data"
    }
   ],
   "source": [
    "freqs = list(fd.values())\n",
    "freqs = sorted(freqs, reverse = True)\n",
    "\n",
    "fig, ax = plt.subplots()\n",
    "ax.plot(range(300), freqs[:300])\n",
    "plt.show()"
   ]
  },
  {
   "cell_type": "markdown",
   "metadata": {},
   "source": [
    "#### Закон Хипса\n",
    "\n",
    "С увеличением длины текста (количества токенов), количество типов увеличивается в соответствии с законом: |V|=K∗N^b\n",
    "\n",
    "N – число токенов, |V| – количество типов в словаре, K,b – параметры, обычно K∈[10,100],b∈[0.4,0.6]"
   ]
  },
  {
   "cell_type": "code",
   "execution_count": 145,
   "metadata": {},
   "outputs": [
    {
     "data": {
      "image/png": "[encoded data removed]",
      "text/plain": [
       "<Figure size 432x288 with 1 Axes>"
      ]
     },
     "metadata": {},
     "output_type": "display_data"
    }
   ],
   "source": [
    "fig, ax = plt.subplots()\n",
    "ax.plot(n_tokens, n_types)\n",
    "plt.show()"
   ]
  },
  {
   "cell_type": "markdown",
   "metadata": {},
   "source": [
    "### Подготовим данные для nltk.NaiveBayesClassifier\n",
    "\n",
    "Классификатор принимает данные о предложении в виде словаря {\"слово\": #количество встреч в предожении}\n",
    "\n",
    "Используйсте Counter. Пример работы:\n",
    "\n",
    "Counter('abracadabra')\n",
    "\n",
    ">Counter({'a': 5, 'b': 2, 'c': 1, 'd': 1, 'r': 2})"
   ]
  },
  {
   "cell_type": "code",
   "execution_count": 82,
   "metadata": {},
   "outputs": [],
   "source": [
    "from collections import Counter"
   ]
  },
  {
   "cell_type": "code",
   "execution_count": 85,
   "metadata": {},
   "outputs": [
    {
     "data": {
      "text/plain": [
       "Counter({'хоть': 1,\n",
       "         'я': 1,\n",
       "         'и': 1,\n",
       "         'школота': 1,\n",
       "         ',': 2,\n",
       "         'но': 1,\n",
       "         'поверь': 1,\n",
       "         'у': 1,\n",
       "         'нас': 1,\n",
       "         'то': 1,\n",
       "         'же': 1,\n",
       "         'самое': 1,\n",
       "         ':': 1,\n",
       "         'D': 1,\n",
       "         'общество': 1,\n",
       "         'профилирующий': 1,\n",
       "         'предмет': 1,\n",
       "         'типа': 1,\n",
       "         ')': 1,\n",
       "         '.': 1})"
      ]
     },
     "execution_count": 85,
     "metadata": {},
     "output_type": "execute_result"
    }
   ],
   "source": [
    "all_text = [Counter(line) for line in all_text]\n",
    "all_text[0]"
   ]
  },
  {
   "cell_type": "markdown",
   "metadata": {},
   "source": [
    "### Обучим модель"
   ]
  },
  {
   "cell_type": "code",
   "execution_count": 86,
   "metadata": {},
   "outputs": [],
   "source": [
    "from sklearn.metrics import accuracy_score\n",
    "from nltk import NaiveBayesClassifier\n",
    "from sklearn.model_selection import train_test_split"
   ]
  },
  {
   "cell_type": "code",
   "execution_count": 87,
   "metadata": {},
   "outputs": [],
   "source": [
    "X_train, X_test, y_train, y_test = train_test_split(all_text, all_labels, test_size=0.1)"
   ]
  },
  {
   "cell_type": "code",
   "execution_count": 97,
   "metadata": {},
   "outputs": [],
   "source": [
    "clf = NaiveBayesClassifier.train(zip(X_train, y_train))"
   ]
  },
  {
   "cell_type": "markdown",
   "metadata": {},
   "source": [
    "### Протестируем качество классификации"
   ]
  },
  {
   "cell_type": "code",
   "execution_count": 98,
   "metadata": {},
   "outputs": [
    {
     "data": {
      "text/plain": [
       "0.9333333333333333"
      ]
     },
     "execution_count": 98,
     "metadata": {},
     "output_type": "execute_result"
    }
   ],
   "source": [
    "pred = clf.classify_many(X_test)\n",
    "accuracy_score(y_test, pred)"
   ]
  },
  {
   "cell_type": "markdown",
   "metadata": {},
   "source": [
    "# Добавим признаков\n",
    "\n",
    "Для каждого примера добавим количество частей речи в нем. Если мы встретили знак пунктуации, то обозначим его как 'PNCT'."
   ]
  },
  {
   "cell_type": "code",
   "execution_count": 99,
   "metadata": {},
   "outputs": [],
   "source": [
    "import pymorphy2"
   ]
  },
  {
   "cell_type": "code",
   "execution_count": 100,
   "metadata": {},
   "outputs": [],
   "source": [
    "morph = pymorphy2.analyzer.MorphAnalyzer()"
   ]
  },
  {
   "cell_type": "markdown",
   "metadata": {},
   "source": [
    "Используйте pymorphy2.analyzer.MorphAnalyzer.parse"
   ]
  },
  {
   "cell_type": "code",
   "execution_count": 103,
   "metadata": {},
   "outputs": [],
   "source": [
    "all_text_with_pos = []\n",
    "for sample in all_text:\n",
    "    update = Counter(sample)\n",
    "    for word, count in sample.items():\n",
    "        word_parsed = morph.parse(word)[0]\n",
    "        pos = str(word_parsed.tag.POS)\n",
    "        if not pos:\n",
    "            pos = 'PNCT'\n",
    "        update.update({pos:count})\n",
    "    all_text_with_pos.append(update)"
   ]
  },
  {
   "cell_type": "code",
   "execution_count": 106,
   "metadata": {},
   "outputs": [
    {
     "data": {
      "text/plain": [
       "Counter({'хоть': 1,\n",
       "         'я': 1,\n",
       "         'и': 1,\n",
       "         'школота': 1,\n",
       "         ',': 2,\n",
       "         'но': 1,\n",
       "         'поверь': 1,\n",
       "         'у': 1,\n",
       "         'нас': 1,\n",
       "         'то': 1,\n",
       "         'же': 1,\n",
       "         'самое': 1,\n",
       "         ':': 1,\n",
       "         'D': 1,\n",
       "         'общество': 1,\n",
       "         'профилирующий': 1,\n",
       "         'предмет': 1,\n",
       "         'типа': 1,\n",
       "         ')': 1,\n",
       "         '.': 1,\n",
       "         'CONJ': 5,\n",
       "         'NPRO': 2,\n",
       "         'ADJS': 1,\n",
       "         'None': 6,\n",
       "         'PREP': 1,\n",
       "         'PRCL': 1,\n",
       "         'ADJF': 1,\n",
       "         'NOUN': 3,\n",
       "         'PRTF': 1})"
      ]
     },
     "execution_count": 106,
     "metadata": {},
     "output_type": "execute_result"
    }
   ],
   "source": [
    "all_text_with_pos[0]"
   ]
  },
  {
   "cell_type": "code",
   "execution_count": 107,
   "metadata": {},
   "outputs": [],
   "source": [
    "X_train, X_test, y_train, y_test = train_test_split(all_text_with_pos, all_labels, test_size=0.1)"
   ]
  },
  {
   "cell_type": "code",
   "execution_count": 108,
   "metadata": {},
   "outputs": [],
   "source": [
    "clf = NaiveBayesClassifier.train(zip(X_train, y_train))"
   ]
  },
  {
   "cell_type": "code",
   "execution_count": 109,
   "metadata": {},
   "outputs": [
    {
     "data": {
      "text/plain": [
       "0.9213675213675213"
      ]
     },
     "execution_count": 109,
     "metadata": {},
     "output_type": "execute_result"
    }
   ],
   "source": [
    "pred = clf.classify_many(X_test)\n",
    "accuracy_score(y_test, pred)"
   ]
  },
  {
   "cell_type": "markdown",
   "metadata": {},
   "source": [
    "### Попробуем лемматизировать слова\n",
    "\n",
    "Обучите тот же классификатор но на примерах, где все слова в нормальной форме."
   ]
  },
  {
   "cell_type": "code",
   "execution_count": 147,
   "metadata": {},
   "outputs": [],
   "source": [
    "morph = pymorphy2.analyzer.MorphAnalyzer()"
   ]
  },
  {
   "cell_type": "code",
   "execution_count": 151,
   "metadata": {},
   "outputs": [],
   "source": [
    "all_text_with_pos = []\n",
    "for sample in all_text:\n",
    "    update = Counter()\n",
    "    for word, count in sample.items():\n",
    "        word_parsed = morph.parse(word)[0].normal_form\n",
    "        update.update({word_parsed:count})\n",
    "    all_text_with_pos.append(update)"
   ]
  },
  {
   "cell_type": "code",
   "execution_count": 154,
   "metadata": {},
   "outputs": [
    {
     "data": {
      "text/plain": [
       "Counter({'хоть': 1,\n",
       "         'я': 1,\n",
       "         'и': 1,\n",
       "         'школотый': 1,\n",
       "         ',': 2,\n",
       "         'но': 1,\n",
       "         'поверь': 1,\n",
       "         'у': 1,\n",
       "         'мы': 1,\n",
       "         'то': 1,\n",
       "         'же': 1,\n",
       "         'самый': 1,\n",
       "         ':': 1,\n",
       "         'd': 1,\n",
       "         'общество': 1,\n",
       "         'профилировать': 1,\n",
       "         'предмет': 1,\n",
       "         'тип': 1,\n",
       "         ')': 1,\n",
       "         '.': 1})"
      ]
     },
     "execution_count": 154,
     "metadata": {},
     "output_type": "execute_result"
    }
   ],
   "source": [
    "all_text_with_pos[0]"
   ]
  },
  {
   "cell_type": "code",
   "execution_count": 155,
   "metadata": {},
   "outputs": [
    {
     "data": {
      "text/plain": [
       "0.9358974358974359"
      ]
     },
     "execution_count": 155,
     "metadata": {},
     "output_type": "execute_result"
    }
   ],
   "source": [
    "X_train, X_test, y_train, y_test = train_test_split(all_text_with_pos, all_labels, test_size=0.1)\n",
    "clf = NaiveBayesClassifier.train(zip(X_train, y_train))\n",
    "\n",
    "pred = clf.classify_many(X_test)\n",
    "accuracy_score(y_test, pred)"
   ]
  },
  {
   "cell_type": "markdown",
   "metadata": {},
   "source": [
    "### Как изменилось качество? Почему?"
   ]
  },
  {
   "cell_type": "code",
   "execution_count": null,
   "metadata": {
    "collapsed": true
   },
   "outputs": [],
   "source": []
  },
  {
   "cell_type": "markdown",
   "metadata": {},
   "source": [
    "# Часть 2. Использование знаний морфологии для генерации текста\n",
    "\n",
    "Задание: написать шаблон вида: {person} {action} {count} {target}. Где\n",
    "\n",
    "Person - лицо которое выполняет действие action. Каждое такое действие может быть в трех временах (настоящее, прошедшее и будущее). Действие выполняется с целью target. Такая цель - это некоторый объект или объекты числом count. count>0.\n",
    "\n",
    "Используйте make_agree_with_number, parse и inflect из библиотеки pymorphy2.\n",
    "\n",
    "Времена глаголов в документации pymorphy2: past (прошедшее), pres (настоящее), futr (будущее)."
   ]
  },
  {
   "cell_type": "code",
   "execution_count": 110,
   "metadata": {},
   "outputs": [],
   "source": [
    "import pymorphy2\n",
    "morph = pymorphy2.analyzer.MorphAnalyzer()"
   ]
  },
  {
   "cell_type": "markdown",
   "metadata": {},
   "source": [
    "Согласование существительного с числом."
   ]
  },
  {
   "cell_type": "code",
   "execution_count": 114,
   "metadata": {},
   "outputs": [
    {
     "data": {
      "text/plain": [
       "Parse(word='бутявки', tag=OpencorporaTag('NOUN,inan,femn sing,gent'), normal_form='бутявка', score=1.0, methods_stack=((<DictionaryAnalyzer>, 'явки', 8, 1), (<UnknownPrefixAnalyzer>, 'бут')))"
      ]
     },
     "execution_count": 114,
     "metadata": {},
     "output_type": "execute_result"
    }
   ],
   "source": [
    "butyavka = morph.parse(\"бутявка\")[0]\n",
    "butyavka.make_agree_with_number(2)"
   ]
  },
  {
   "cell_type": "markdown",
   "metadata": {},
   "source": [
    "Чтобы поставить слово в нужную форму используется inflect"
   ]
  },
  {
   "cell_type": "code",
   "execution_count": 112,
   "metadata": {},
   "outputs": [
    {
     "data": {
      "text/plain": [
       "Parse(word='бутявки', tag=OpencorporaTag('NOUN,inan,femn sing,gent'), normal_form='бутявка', score=1.0, methods_stack=((<DictionaryAnalyzer>, 'явки', 8, 1), (<UnknownPrefixAnalyzer>, 'бут')))"
      ]
     },
     "execution_count": 112,
     "metadata": {},
     "output_type": "execute_result"
    }
   ],
   "source": [
    "butyavka.inflect({'gent'})  # нет кого? (родительный падеж)"
   ]
  },
  {
   "cell_type": "code",
   "execution_count": 115,
   "metadata": {},
   "outputs": [
    {
     "data": {
      "text/plain": [
       "Parse(word='бутявок', tag=OpencorporaTag('NOUN,inan,femn plur,gent'), normal_form='бутявка', score=1.0, methods_stack=((<DictionaryAnalyzer>, 'явок', 8, 8), (<UnknownPrefixAnalyzer>, 'бут')))"
      ]
     },
     "execution_count": 115,
     "metadata": {},
     "output_type": "execute_result"
    }
   ],
   "source": [
    "butyavka.inflect({'plur', 'gent'})"
   ]
  },
  {
   "cell_type": "code",
   "execution_count": 227,
   "metadata": {},
   "outputs": [],
   "source": [
    "def genarate(person, action, time, count, target):\n",
    "    # Поставьте action в нужное время\n",
    "    inflect = {time, morph.parse(person)[0].tag.gender}\n",
    "    action = morph.parse(action)[0].inflect(inflect).word\n",
    "    target = morph.parse(target)[0].make_agree_with_number(count).word\n",
    "    return \"{person} {action} {count} {target}\".format(person=person, action=action, count=count, target=target)"
   ]
  },
  {
   "cell_type": "code",
   "execution_count": 230,
   "metadata": {},
   "outputs": [
    {
     "data": {
      "text/plain": [
       "'Даша съела 3 корейца'"
      ]
     },
     "execution_count": 230,
     "metadata": {},
     "output_type": "execute_result"
    }
   ],
   "source": [
    "genarate(\"Даша\", \"съел\", \"past\", 3, \"корейцы\")"
   ]
  },
  {
   "cell_type": "code",
   "execution_count": 234,
   "metadata": {},
   "outputs": [
    {
     "name": "stdout",
     "output_type": "stream",
     "text": [
      "есть INFN\n",
      "ем VERB\n",
      "едим VERB\n",
      "ешь VERB\n",
      "едите VERB\n",
      "ест VERB\n",
      "едят VERB\n",
      "ел VERB\n",
      "ела VERB\n",
      "ело VERB\n",
      "ели VERB\n",
      "ешь VERB\n",
      "ешьте VERB\n",
      "едящий PRTF\n",
      "едящего PRTF\n",
      "едящему PRTF\n",
      "едящего PRTF\n",
      "едящий PRTF\n",
      "едящим PRTF\n",
      "едящем PRTF\n",
      "едящая PRTF\n",
      "едящей PRTF\n",
      "едящей PRTF\n",
      "едящую PRTF\n",
      "едящей PRTF\n",
      "едящею PRTF\n",
      "едящей PRTF\n",
      "едящее PRTF\n",
      "едящего PRTF\n",
      "едящему PRTF\n",
      "едящее PRTF\n",
      "едящим PRTF\n",
      "едящем PRTF\n",
      "едящие PRTF\n",
      "едящих PRTF\n",
      "едящим PRTF\n",
      "едящих PRTF\n",
      "едящие PRTF\n",
      "едящими PRTF\n",
      "едящих PRTF\n",
      "евший PRTF\n",
      "евшего PRTF\n",
      "евшему PRTF\n",
      "евшего PRTF\n",
      "евший PRTF\n",
      "евшим PRTF\n",
      "евшем PRTF\n",
      "евшая PRTF\n",
      "евшей PRTF\n",
      "евшей PRTF\n",
      "евшую PRTF\n",
      "евшей PRTF\n",
      "евшею PRTF\n",
      "евшей PRTF\n",
      "евшее PRTF\n",
      "евшего PRTF\n",
      "евшему PRTF\n",
      "евшее PRTF\n",
      "евшим PRTF\n",
      "евшем PRTF\n",
      "евшие PRTF\n",
      "евших PRTF\n",
      "евшим PRTF\n",
      "евших PRTF\n",
      "евшие PRTF\n",
      "евшими PRTF\n",
      "евших PRTF\n",
      "еденный PRTF\n",
      "еденного PRTF\n",
      "еденному PRTF\n",
      "еденного PRTF\n",
      "еденный PRTF\n",
      "еденным PRTF\n",
      "еденном PRTF\n",
      "еденная PRTF\n",
      "еденной PRTF\n",
      "еденной PRTF\n",
      "еденную PRTF\n",
      "еденной PRTF\n",
      "еденною PRTF\n",
      "еденной PRTF\n",
      "еденное PRTF\n",
      "еденного PRTF\n",
      "еденному PRTF\n",
      "еденное PRTF\n",
      "еденным PRTF\n",
      "еденном PRTF\n",
      "еденные PRTF\n",
      "еденных PRTF\n",
      "еденным PRTF\n",
      "еденных PRTF\n",
      "еденные PRTF\n",
      "еденными PRTF\n",
      "еденных PRTF\n",
      "едя GRND\n",
      "ев GRND\n",
      "евши GRND\n",
      "еден PRTS\n",
      "едена PRTS\n",
      "едено PRTS\n",
      "едены PRTS\n"
     ]
    }
   ],
   "source": [
    "for l in morph.parse('ел')[0].lexeme:\n",
    "    print(l.word, l.tag.POS)"
   ]
  },
  {
   "cell_type": "markdown",
   "metadata": {},
   "source": [
    "# Часть 3. Статистические морфологические анализаторы"
   ]
  },
  {
   "cell_type": "markdown",
   "metadata": {},
   "source": [
    "### Загрузим данные из nltk.treebank"
   ]
  },
  {
   "cell_type": "code",
   "execution_count": 122,
   "metadata": {},
   "outputs": [],
   "source": [
    "from nltk.corpus import treebank"
   ]
  },
  {
   "cell_type": "code",
   "execution_count": 123,
   "metadata": {},
   "outputs": [],
   "source": [
    "sentences = treebank.tagged_sents()"
   ]
  },
  {
   "cell_type": "code",
   "execution_count": 124,
   "metadata": {},
   "outputs": [
    {
     "name": "stdout",
     "output_type": "stream",
     "text": [
      "[('Pierre', 'NNP'), ('Vinken', 'NNP'), (',', ','), ('61', 'CD'), ('years', 'NNS'), ('old', 'JJ'), (',', ','), ('will', 'MD'), ('join', 'VB'), ('the', 'DT'), ('board', 'NN'), ('as', 'IN'), ('a', 'DT'), ('nonexecutive', 'JJ'), ('director', 'NN'), ('Nov.', 'NNP'), ('29', 'CD'), ('.', '.')]\n"
     ]
    }
   ],
   "source": [
    "print(sentences[0])"
   ]
  },
  {
   "cell_type": "markdown",
   "metadata": {},
   "source": [
    "### Выделим признаки"
   ]
  },
  {
   "cell_type": "code",
   "execution_count": 127,
   "metadata": {},
   "outputs": [],
   "source": [
    "def features(sentence, index):\n",
    "    return {\n",
    "        'word': sentence[index],\n",
    "        'is_first': index == 0,\n",
    "        'is_last': index == len(sentence) - 1,\n",
    "        'prefix-1': sentence[index][0],\n",
    "        'prefix-2': sentence[index][:2],\n",
    "        'prefix-3': sentence[index][:3],\n",
    "        'suffix-1': sentence[index][-1],\n",
    "        'suffix-2': sentence[index][-2:],\n",
    "        'suffix-3': sentence[index][-3:],\n",
    "        'prev_word': '' if index == 0 else sentence[index - 1],\n",
    "        'next_word': '' if index == len(sentence) - 1 else sentence[index + 1],\n",
    "        'is_all_lower':  sentence[index].lower() == sentence[index],\n",
    "        'is_first_cap': sentence[index][0].upper() == sentence[index][0]\n",
    "    }"
   ]
  },
  {
   "cell_type": "code",
   "execution_count": 128,
   "metadata": {},
   "outputs": [],
   "source": [
    "def untag(tagged_sentence):\n",
    "    return [w for w, t in tagged_sentence]"
   ]
  },
  {
   "cell_type": "code",
   "execution_count": 129,
   "metadata": {},
   "outputs": [],
   "source": [
    "# Split the dataset for training and testing\n",
    "cutoff = int(.75 * len(sentences))\n",
    "training_sentences = sentences[:cutoff]\n",
    "test_sentences = sentences[cutoff:]\n",
    "\n",
    "\n",
    "def transform_to_dataset(tagged_sentences):\n",
    "    X, y = [], []\n",
    " \n",
    "    for tagged in tagged_sentences:\n",
    "        for index in range(len(tagged)):\n",
    "            X.append(features(untag(tagged), index))\n",
    "            y.append(tagged[index][1])\n",
    " \n",
    "    return X, y\n",
    " \n",
    "X, y = transform_to_dataset(training_sentences)"
   ]
  },
  {
   "cell_type": "markdown",
   "metadata": {},
   "source": [
    "### В качестве классификатора используем DecisionTreeClassifier"
   ]
  },
  {
   "cell_type": "code",
   "execution_count": 130,
   "metadata": {},
   "outputs": [
    {
     "data": {
      "text/plain": [
       "Pipeline(memory=None,\n",
       "     steps=[('vectorizer', DictVectorizer(dtype=<class 'numpy.float64'>, separator='=', sort=True,\n",
       "        sparse=False)), ('classifier', DecisionTreeClassifier(class_weight=None, criterion='entropy', max_depth=None,\n",
       "            max_features=None, max_leaf_nodes=None,\n",
       "            min_impurity_decrease=0.0, min_impurity_split=None,\n",
       "            min_samples_leaf=1, min_samples_split=2,\n",
       "            min_weight_fraction_leaf=0.0, presort=False, random_state=None,\n",
       "            splitter='best'))])"
      ]
     },
     "execution_count": 130,
     "metadata": {},
     "output_type": "execute_result"
    }
   ],
   "source": [
    "from sklearn.tree import DecisionTreeClassifier\n",
    "from sklearn.feature_extraction import DictVectorizer\n",
    "from sklearn.pipeline import Pipeline\n",
    "\n",
    "\n",
    "clf = Pipeline([\n",
    "    ('vectorizer', DictVectorizer(sparse=False)),\n",
    "    ('classifier', DecisionTreeClassifier(criterion='entropy'))\n",
    "])\n",
    "\n",
    "\n",
    "# Используем не все примеры (может не хватить оперативной памяти или долго обучаться)\n",
    "clf.fit(X[:10000], y[:10000])"
   ]
  },
  {
   "cell_type": "code",
   "execution_count": 131,
   "metadata": {},
   "outputs": [],
   "source": [
    "X_test, y_test = transform_to_dataset(test_sentences)"
   ]
  },
  {
   "cell_type": "code",
   "execution_count": 132,
   "metadata": {},
   "outputs": [
    {
     "data": {
      "text/plain": [
       "0.87"
      ]
     },
     "execution_count": 132,
     "metadata": {},
     "output_type": "execute_result"
    }
   ],
   "source": [
    "clf.score(X_test[:100], y_test[:100])"
   ]
  },
  {
   "cell_type": "markdown",
   "metadata": {},
   "source": [
    "### Классифицируем с помощью CRF"
   ]
  },
  {
   "cell_type": "code",
   "execution_count": 133,
   "metadata": {},
   "outputs": [],
   "source": [
    "train, test = sentences[:-100], sentences[-100:]"
   ]
  },
  {
   "cell_type": "code",
   "execution_count": 134,
   "metadata": {},
   "outputs": [],
   "source": [
    "from nltk.tag import CRFTagger"
   ]
  },
  {
   "cell_type": "code",
   "execution_count": 135,
   "metadata": {},
   "outputs": [],
   "source": [
    "ct = CRFTagger()"
   ]
  },
  {
   "cell_type": "code",
   "execution_count": 136,
   "metadata": {},
   "outputs": [],
   "source": [
    "ct.train(train ,'model.crf.tagger')"
   ]
  },
  {
   "cell_type": "code",
   "execution_count": 137,
   "metadata": {},
   "outputs": [
    {
     "data": {
      "text/plain": [
       "0.9566528458349038"
      ]
     },
     "execution_count": 137,
     "metadata": {},
     "output_type": "execute_result"
    }
   ],
   "source": [
    "ct.evaluate(test)"
   ]
  },
  {
   "cell_type": "code",
   "execution_count": null,
   "metadata": {},
   "outputs": [],
   "source": []
  }
 ],
 "metadata": {
  "kernelspec": {
   "display_name": "Python 3",
   "language": "python",
   "name": "python3"
  },
  "language_info": {
   "codemirror_mode": {
    "name": "ipython",
    "version": 3
   },
   "file_extension": ".py",
   "mimetype": "text/x-python",
   "name": "python",
   "nbconvert_exporter": "python",
   "pygments_lexer": "ipython3",
   "version": "3.6.4"
  }
 },
 "nbformat": 4,
 "nbformat_minor": 2
}
